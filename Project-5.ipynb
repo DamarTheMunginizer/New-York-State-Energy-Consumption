{
 "cells": [
  {
   "cell_type": "code",
   "execution_count": 1,
   "id": "666f59e5-1151-4229-ada8-90330e1b9761",
   "metadata": {},
   "outputs": [],
   "source": [
    "# Pip install if needed \n",
    "# pip install openmeteo-requests"
   ]
  },
  {
   "cell_type": "code",
   "execution_count": 2,
   "id": "80668ee9-a642-4154-b0f2-82e2a0170f25",
   "metadata": {},
   "outputs": [],
   "source": [
    "# pip install if needed\n",
    "# pip install requests-cache retry-requests numpy pandas"
   ]
  },
  {
   "cell_type": "code",
   "execution_count": 3,
   "id": "8e785e45-f240-4a61-97ea-a016c77582bc",
   "metadata": {},
   "outputs": [],
   "source": [
    "import numpy as np\n",
    "import pandas as pd\n",
    "import matplotlib.pyplot as plt\n",
    "import seaborn as sns\n",
    "from sklearn.cluster import KMeans\n",
    "from sklearn.metrics import silhouette_score\n",
    "from sklearn.preprocessing import StandardScaler\n",
    "from sklearn.pipeline import Pipeline\n",
    "from sklearn.decomposition import PCA\n",
    "\n",
    "np.random.seed(42)"
   ]
  },
  {
   "cell_type": "code",
   "execution_count": 4,
   "id": "e2dae2d8-520a-4325-a9a3-699dc03f310c",
   "metadata": {},
   "outputs": [
    {
     "name": "stderr",
     "output_type": "stream",
     "text": [
      "C:\\Users\\graha\\AppData\\Local\\Temp\\ipykernel_16540\\3871736691.py:1: DtypeWarning: Columns (1,2,3,4,5,6,7,8,9,10) have mixed types. Specify dtype option on import or set low_memory=False.\n",
      "  weather = pd.read_csv('./data/new-york-weather.csv',header = None)\n"
     ]
    },
    {
     "data": {
      "text/plain": [
       "(288110, 11)"
      ]
     },
     "execution_count": 4,
     "metadata": {},
     "output_type": "execute_result"
    }
   ],
   "source": [
    "weather = pd.read_csv('./data/new-york-weather.csv',header = None)\n",
    "weather.columns = ['date',\"daylight_duration\",\"sunshine_duration\",\"rain_sum\",\"showers_sum\",\n",
    "                   \"snowfall_sum\",\"precipitation_hours\",\"wind_speed_10m_max\",\"wind_gusts_10m_max\",\"latitude\",\"longitude\"]\n",
    "weather.shape"
   ]
  },
  {
   "cell_type": "code",
   "execution_count": 5,
   "id": "76a30fc6-dea9-4ede-8ea7-39950e34e77b",
   "metadata": {},
   "outputs": [],
   "source": [
    "weather = weather.drop(columns = 'showers_sum')"
   ]
  },
  {
   "cell_type": "markdown",
   "id": "1fe471fa-69e7-4b90-99b3-733b0c8308a7",
   "metadata": {},
   "source": [
    "### Drop strings in the dataframe that came from improper appending"
   ]
  },
  {
   "cell_type": "code",
   "execution_count": 6,
   "id": "32ae10b9-ca9b-4bfb-8b54-5d71b15df815",
   "metadata": {
    "scrolled": true
   },
   "outputs": [
    {
     "data": {
      "text/html": [
       "<div>\n",
       "<style scoped>\n",
       "    .dataframe tbody tr th:only-of-type {\n",
       "        vertical-align: middle;\n",
       "    }\n",
       "\n",
       "    .dataframe tbody tr th {\n",
       "        vertical-align: top;\n",
       "    }\n",
       "\n",
       "    .dataframe thead th {\n",
       "        text-align: right;\n",
       "    }\n",
       "</style>\n",
       "<table border=\"1\" class=\"dataframe\">\n",
       "  <thead>\n",
       "    <tr style=\"text-align: right;\">\n",
       "      <th></th>\n",
       "      <th>date</th>\n",
       "      <th>daylight_duration</th>\n",
       "      <th>sunshine_duration</th>\n",
       "      <th>rain_sum</th>\n",
       "      <th>snowfall_sum</th>\n",
       "      <th>precipitation_hours</th>\n",
       "      <th>wind_speed_10m_max</th>\n",
       "      <th>wind_gusts_10m_max</th>\n",
       "      <th>latitude</th>\n",
       "      <th>longitude</th>\n",
       "    </tr>\n",
       "  </thead>\n",
       "  <tbody>\n",
       "    <tr>\n",
       "      <th>260028</th>\n",
       "      <td>date</td>\n",
       "      <td>daylight_duration</td>\n",
       "      <td>sunshine_duration</td>\n",
       "      <td>rain_sum</td>\n",
       "      <td>snowfall_sum</td>\n",
       "      <td>precipitation_hours</td>\n",
       "      <td>wind_speed_10m_max</td>\n",
       "      <td>wind_gusts_10m_max</td>\n",
       "      <td>latitude</td>\n",
       "      <td>longitude</td>\n",
       "    </tr>\n",
       "    <tr>\n",
       "      <th>274669</th>\n",
       "      <td>date</td>\n",
       "      <td>daylight_duration</td>\n",
       "      <td>sunshine_duration</td>\n",
       "      <td>rain_sum</td>\n",
       "      <td>snowfall_sum</td>\n",
       "      <td>precipitation_hours</td>\n",
       "      <td>wind_speed_10m_max</td>\n",
       "      <td>wind_gusts_10m_max</td>\n",
       "      <td>latitude</td>\n",
       "      <td>longitude</td>\n",
       "    </tr>\n",
       "  </tbody>\n",
       "</table>\n",
       "</div>"
      ],
      "text/plain": [
       "        date  daylight_duration  sunshine_duration  rain_sum  snowfall_sum  \\\n",
       "260028  date  daylight_duration  sunshine_duration  rain_sum  snowfall_sum   \n",
       "274669  date  daylight_duration  sunshine_duration  rain_sum  snowfall_sum   \n",
       "\n",
       "        precipitation_hours  wind_speed_10m_max  wind_gusts_10m_max  latitude  \\\n",
       "260028  precipitation_hours  wind_speed_10m_max  wind_gusts_10m_max  latitude   \n",
       "274669  precipitation_hours  wind_speed_10m_max  wind_gusts_10m_max  latitude   \n",
       "\n",
       "        longitude  \n",
       "260028  longitude  \n",
       "274669  longitude  "
      ]
     },
     "execution_count": 6,
     "metadata": {},
     "output_type": "execute_result"
    }
   ],
   "source": [
    "weather[weather['daylight_duration'].astype(str).str.contains('day')]"
   ]
  },
  {
   "cell_type": "code",
   "execution_count": 7,
   "id": "3531f2a7-358d-49ec-8a1e-99bced1049e8",
   "metadata": {},
   "outputs": [],
   "source": [
    "weather = weather.drop(weather[weather['daylight_duration'].astype(str).str.contains('day')].index)"
   ]
  },
  {
   "cell_type": "code",
   "execution_count": 8,
   "id": "cf2dfbf4-9176-4486-8fc1-24b668b63813",
   "metadata": {},
   "outputs": [
    {
     "data": {
      "text/html": [
       "<div>\n",
       "<style scoped>\n",
       "    .dataframe tbody tr th:only-of-type {\n",
       "        vertical-align: middle;\n",
       "    }\n",
       "\n",
       "    .dataframe tbody tr th {\n",
       "        vertical-align: top;\n",
       "    }\n",
       "\n",
       "    .dataframe thead th {\n",
       "        text-align: right;\n",
       "    }\n",
       "</style>\n",
       "<table border=\"1\" class=\"dataframe\">\n",
       "  <thead>\n",
       "    <tr style=\"text-align: right;\">\n",
       "      <th></th>\n",
       "      <th>date</th>\n",
       "      <th>daylight_duration</th>\n",
       "      <th>sunshine_duration</th>\n",
       "      <th>rain_sum</th>\n",
       "      <th>snowfall_sum</th>\n",
       "      <th>precipitation_hours</th>\n",
       "      <th>wind_speed_10m_max</th>\n",
       "      <th>wind_gusts_10m_max</th>\n",
       "      <th>latitude</th>\n",
       "      <th>longitude</th>\n",
       "    </tr>\n",
       "  </thead>\n",
       "  <tbody>\n",
       "  </tbody>\n",
       "</table>\n",
       "</div>"
      ],
      "text/plain": [
       "Empty DataFrame\n",
       "Columns: [date, daylight_duration, sunshine_duration, rain_sum, snowfall_sum, precipitation_hours, wind_speed_10m_max, wind_gusts_10m_max, latitude, longitude]\n",
       "Index: []"
      ]
     },
     "execution_count": 8,
     "metadata": {},
     "output_type": "execute_result"
    }
   ],
   "source": [
    "weather[weather['daylight_duration'].astype(str).str.contains('day')]"
   ]
  },
  {
   "cell_type": "markdown",
   "id": "08d4f245-e0d1-4342-bd0a-563348b61b28",
   "metadata": {},
   "source": [
    "### Sort the dataframe by date"
   ]
  },
  {
   "cell_type": "code",
   "execution_count": 9,
   "id": "6b70d115-7386-4bc0-b770-b39ae6e4f235",
   "metadata": {},
   "outputs": [],
   "source": [
    "weather = weather.sort_values('date')"
   ]
  },
  {
   "cell_type": "markdown",
   "id": "c0aa13e2-6104-4ea0-b441-129f8b93ee75",
   "metadata": {},
   "source": [
    "### Delete the time in all the dates and remove the white space made"
   ]
  },
  {
   "cell_type": "code",
   "execution_count": 10,
   "id": "9866e707-e049-4e08-85ac-86fceb2c375a",
   "metadata": {},
   "outputs": [],
   "source": [
    "weather['date'] = weather['date'].str.replace('05:00:00+00:00', '')\n",
    "weather['date'] = weather['date'].str.strip()"
   ]
  },
  {
   "cell_type": "code",
   "execution_count": 11,
   "id": "d291c699-7f41-429c-98cd-ee206719ef83",
   "metadata": {},
   "outputs": [],
   "source": [
    "weather[[\"daylight_duration\",\"sunshine_duration\",\"rain_sum\",\n",
    "         \"snowfall_sum\",\"precipitation_hours\",\"wind_speed_10m_max\",\"wind_gusts_10m_max\",\"latitude\",\"longitude\"]] = weather[[\"daylight_duration\",\"sunshine_duration\",\"rain_sum\",\n",
    "         \"snowfall_sum\",\"precipitation_hours\",\"wind_speed_10m_max\",\"wind_gusts_10m_max\",\"latitude\",\"longitude\"]].apply(pd.to_numeric)"
   ]
  },
  {
   "cell_type": "code",
   "execution_count": 12,
   "id": "dd4bf666-d967-45de-837a-361e955b4b01",
   "metadata": {},
   "outputs": [],
   "source": [
    "weather['precipitation_total'] = weather['rain_sum'] + weather['snowfall_sum'] \n",
    "weather['location'] = list(zip(weather['latitude'],weather['longitude']))"
   ]
  },
  {
   "cell_type": "code",
   "execution_count": 13,
   "id": "d25f9941-8d9b-412c-beca-c7579fa56687",
   "metadata": {},
   "outputs": [
    {
     "data": {
      "text/plain": [
       "(268392, 12)"
      ]
     },
     "execution_count": 13,
     "metadata": {},
     "output_type": "execute_result"
    }
   ],
   "source": [
    "# Group by 'location'\n",
    "grouped = weather.groupby('location')\n",
    "\n",
    "# Drop duplicates based on 'date' for each group\n",
    "weather = pd.concat([group.drop_duplicates(subset=['date']) for _, group in grouped], ignore_index=True)\n",
    "\n",
    "# Display the first few rows of the cleaned DataFrame\n",
    "weather.shape"
   ]
  },
  {
   "cell_type": "code",
   "execution_count": 14,
   "id": "032a1b24-3119-4b5e-9db7-c083f83f745b",
   "metadata": {},
   "outputs": [
    {
     "name": "stdout",
     "output_type": "stream",
     "text": [
      "<class 'pandas.core.frame.DataFrame'>\n",
      "RangeIndex: 268392 entries, 0 to 268391\n",
      "Data columns (total 12 columns):\n",
      " #   Column               Non-Null Count   Dtype  \n",
      "---  ------               --------------   -----  \n",
      " 0   date                 268392 non-null  object \n",
      " 1   daylight_duration    268392 non-null  float64\n",
      " 2   sunshine_duration    268392 non-null  float64\n",
      " 3   rain_sum             268392 non-null  float64\n",
      " 4   snowfall_sum         268392 non-null  float64\n",
      " 5   precipitation_hours  268392 non-null  float64\n",
      " 6   wind_speed_10m_max   268392 non-null  float64\n",
      " 7   wind_gusts_10m_max   268392 non-null  float64\n",
      " 8   latitude             268392 non-null  float64\n",
      " 9   longitude            268392 non-null  float64\n",
      " 10  precipitation_total  268392 non-null  float64\n",
      " 11  location             268392 non-null  object \n",
      "dtypes: float64(10), object(2)\n",
      "memory usage: 24.6+ MB\n"
     ]
    }
   ],
   "source": [
    "weather.info()"
   ]
  },
  {
   "cell_type": "code",
   "execution_count": 15,
   "id": "be060799-4012-47cc-8b93-c24dbb15bc36",
   "metadata": {},
   "outputs": [
    {
     "data": {
      "text/plain": [
       "date                   0\n",
       "daylight_duration      0\n",
       "sunshine_duration      0\n",
       "rain_sum               0\n",
       "snowfall_sum           0\n",
       "precipitation_hours    0\n",
       "wind_speed_10m_max     0\n",
       "wind_gusts_10m_max     0\n",
       "latitude               0\n",
       "longitude              0\n",
       "precipitation_total    0\n",
       "location               0\n",
       "dtype: int64"
      ]
     },
     "execution_count": 15,
     "metadata": {},
     "output_type": "execute_result"
    }
   ],
   "source": [
    "weather.isnull().sum()"
   ]
  },
  {
   "cell_type": "markdown",
   "id": "d6d442d6-a95b-441f-b9d9-5da2ed52a73c",
   "metadata": {},
   "source": [
    "Make a clustering model with everything "
   ]
  },
  {
   "cell_type": "code",
   "execution_count": 21,
   "id": "006fb075-5fce-4a6c-b759-50b28b87541d",
   "metadata": {},
   "outputs": [],
   "source": [
    "weather_km = weather.copy()\n",
    "X = weather_km.drop(columns = ['date','location','rain_sum','snowfall_sum','latitude','longitude'])\n",
    "\n",
    "pipe_km = Pipeline([\n",
    "    ('sc', StandardScaler()),\n",
    "    ('pca',PCA()),\n",
    "    ('km', KMeans(n_clusters=3))\n",
    "])\n",
    "\n",
    "pipe_km.fit(X)\n",
    "\n",
    "\n",
    "weather_km['cluster'] = pipe_km['km'].labels_\n",
    "centroids = pipe_km['sc'].inverse_transform(pipe_km['km'].cluster_centers_)\n",
    "\n",
    "\n",
    "centroids_df = pd.DataFrame(\n",
    "    centroids,\n",
    "    columns=X.columns\n",
    ")"
   ]
  },
  {
   "cell_type": "code",
   "execution_count": 22,
   "id": "7ba04604-4b3b-401e-9e1c-1a50652cb78a",
   "metadata": {},
   "outputs": [
    {
     "ename": "KeyError",
     "evalue": "'longitude'",
     "output_type": "error",
     "traceback": [
      "\u001b[1;31m---------------------------------------------------------------------------\u001b[0m",
      "\u001b[1;31mKeyError\u001b[0m                                  Traceback (most recent call last)",
      "File \u001b[1;32m~\\anaconda3\\Lib\\site-packages\\pandas\\core\\indexes\\base.py:3805\u001b[0m, in \u001b[0;36mIndex.get_loc\u001b[1;34m(self, key)\u001b[0m\n\u001b[0;32m   3804\u001b[0m \u001b[38;5;28;01mtry\u001b[39;00m:\n\u001b[1;32m-> 3805\u001b[0m     \u001b[38;5;28;01mreturn\u001b[39;00m \u001b[38;5;28mself\u001b[39m\u001b[38;5;241m.\u001b[39m_engine\u001b[38;5;241m.\u001b[39mget_loc(casted_key)\n\u001b[0;32m   3806\u001b[0m \u001b[38;5;28;01mexcept\u001b[39;00m \u001b[38;5;167;01mKeyError\u001b[39;00m \u001b[38;5;28;01mas\u001b[39;00m err:\n",
      "File \u001b[1;32mindex.pyx:167\u001b[0m, in \u001b[0;36mpandas._libs.index.IndexEngine.get_loc\u001b[1;34m()\u001b[0m\n",
      "File \u001b[1;32mindex.pyx:196\u001b[0m, in \u001b[0;36mpandas._libs.index.IndexEngine.get_loc\u001b[1;34m()\u001b[0m\n",
      "File \u001b[1;32mpandas\\\\_libs\\\\hashtable_class_helper.pxi:7081\u001b[0m, in \u001b[0;36mpandas._libs.hashtable.PyObjectHashTable.get_item\u001b[1;34m()\u001b[0m\n",
      "File \u001b[1;32mpandas\\\\_libs\\\\hashtable_class_helper.pxi:7089\u001b[0m, in \u001b[0;36mpandas._libs.hashtable.PyObjectHashTable.get_item\u001b[1;34m()\u001b[0m\n",
      "\u001b[1;31mKeyError\u001b[0m: 'longitude'",
      "\nThe above exception was the direct cause of the following exception:\n",
      "\u001b[1;31mKeyError\u001b[0m                                  Traceback (most recent call last)",
      "Cell \u001b[1;32mIn[22], line 17\u001b[0m\n\u001b[0;32m      9\u001b[0m plt\u001b[38;5;241m.\u001b[39mscatter(\n\u001b[0;32m     10\u001b[0m     weather_km[\u001b[38;5;124m'\u001b[39m\u001b[38;5;124mlongitude\u001b[39m\u001b[38;5;124m'\u001b[39m], weather_km[\u001b[38;5;124m'\u001b[39m\u001b[38;5;124mlatitude\u001b[39m\u001b[38;5;124m'\u001b[39m], \n\u001b[0;32m     11\u001b[0m     c\u001b[38;5;241m=\u001b[39mweather_km[\u001b[38;5;124m'\u001b[39m\u001b[38;5;124mcolor\u001b[39m\u001b[38;5;124m'\u001b[39m], \n\u001b[0;32m     12\u001b[0m     label\u001b[38;5;241m=\u001b[39m\u001b[38;5;124m'\u001b[39m\u001b[38;5;124mData Points\u001b[39m\u001b[38;5;124m'\u001b[39m\n\u001b[0;32m     13\u001b[0m )\n\u001b[0;32m     15\u001b[0m \u001b[38;5;66;03m# Plot centroids\u001b[39;00m\n\u001b[0;32m     16\u001b[0m plt\u001b[38;5;241m.\u001b[39mscatter(\n\u001b[1;32m---> 17\u001b[0m     centroids_df[\u001b[38;5;124m'\u001b[39m\u001b[38;5;124mlongitude\u001b[39m\u001b[38;5;124m'\u001b[39m], centroids_df[\u001b[38;5;124m'\u001b[39m\u001b[38;5;124mlatitude\u001b[39m\u001b[38;5;124m'\u001b[39m], \n\u001b[0;32m     18\u001b[0m     marker\u001b[38;5;241m=\u001b[39m\u001b[38;5;124m\"\u001b[39m\u001b[38;5;124m*\u001b[39m\u001b[38;5;124m\"\u001b[39m, \n\u001b[0;32m     19\u001b[0m     c\u001b[38;5;241m=\u001b[39mcolors, \n\u001b[0;32m     20\u001b[0m     s\u001b[38;5;241m=\u001b[39m\u001b[38;5;241m550\u001b[39m, \n\u001b[0;32m     21\u001b[0m     edgecolor\u001b[38;5;241m=\u001b[39m\u001b[38;5;124m\"\u001b[39m\u001b[38;5;124mk\u001b[39m\u001b[38;5;124m\"\u001b[39m, \n\u001b[0;32m     22\u001b[0m     label\u001b[38;5;241m=\u001b[39m\u001b[38;5;124m'\u001b[39m\u001b[38;5;124mCentroids\u001b[39m\u001b[38;5;124m'\u001b[39m\n\u001b[0;32m     23\u001b[0m )\n\u001b[0;32m     25\u001b[0m \u001b[38;5;66;03m# Add labels and legend\u001b[39;00m\n\u001b[0;32m     26\u001b[0m plt\u001b[38;5;241m.\u001b[39mxlabel(\u001b[38;5;124m\"\u001b[39m\u001b[38;5;124mLongitude\u001b[39m\u001b[38;5;124m\"\u001b[39m)\n",
      "File \u001b[1;32m~\\anaconda3\\Lib\\site-packages\\pandas\\core\\frame.py:4102\u001b[0m, in \u001b[0;36mDataFrame.__getitem__\u001b[1;34m(self, key)\u001b[0m\n\u001b[0;32m   4100\u001b[0m \u001b[38;5;28;01mif\u001b[39;00m \u001b[38;5;28mself\u001b[39m\u001b[38;5;241m.\u001b[39mcolumns\u001b[38;5;241m.\u001b[39mnlevels \u001b[38;5;241m>\u001b[39m \u001b[38;5;241m1\u001b[39m:\n\u001b[0;32m   4101\u001b[0m     \u001b[38;5;28;01mreturn\u001b[39;00m \u001b[38;5;28mself\u001b[39m\u001b[38;5;241m.\u001b[39m_getitem_multilevel(key)\n\u001b[1;32m-> 4102\u001b[0m indexer \u001b[38;5;241m=\u001b[39m \u001b[38;5;28mself\u001b[39m\u001b[38;5;241m.\u001b[39mcolumns\u001b[38;5;241m.\u001b[39mget_loc(key)\n\u001b[0;32m   4103\u001b[0m \u001b[38;5;28;01mif\u001b[39;00m is_integer(indexer):\n\u001b[0;32m   4104\u001b[0m     indexer \u001b[38;5;241m=\u001b[39m [indexer]\n",
      "File \u001b[1;32m~\\anaconda3\\Lib\\site-packages\\pandas\\core\\indexes\\base.py:3812\u001b[0m, in \u001b[0;36mIndex.get_loc\u001b[1;34m(self, key)\u001b[0m\n\u001b[0;32m   3807\u001b[0m     \u001b[38;5;28;01mif\u001b[39;00m \u001b[38;5;28misinstance\u001b[39m(casted_key, \u001b[38;5;28mslice\u001b[39m) \u001b[38;5;129;01mor\u001b[39;00m (\n\u001b[0;32m   3808\u001b[0m         \u001b[38;5;28misinstance\u001b[39m(casted_key, abc\u001b[38;5;241m.\u001b[39mIterable)\n\u001b[0;32m   3809\u001b[0m         \u001b[38;5;129;01mand\u001b[39;00m \u001b[38;5;28many\u001b[39m(\u001b[38;5;28misinstance\u001b[39m(x, \u001b[38;5;28mslice\u001b[39m) \u001b[38;5;28;01mfor\u001b[39;00m x \u001b[38;5;129;01min\u001b[39;00m casted_key)\n\u001b[0;32m   3810\u001b[0m     ):\n\u001b[0;32m   3811\u001b[0m         \u001b[38;5;28;01mraise\u001b[39;00m InvalidIndexError(key)\n\u001b[1;32m-> 3812\u001b[0m     \u001b[38;5;28;01mraise\u001b[39;00m \u001b[38;5;167;01mKeyError\u001b[39;00m(key) \u001b[38;5;28;01mfrom\u001b[39;00m \u001b[38;5;21;01merr\u001b[39;00m\n\u001b[0;32m   3813\u001b[0m \u001b[38;5;28;01mexcept\u001b[39;00m \u001b[38;5;167;01mTypeError\u001b[39;00m:\n\u001b[0;32m   3814\u001b[0m     \u001b[38;5;66;03m# If we have a listlike key, _check_indexing_error will raise\u001b[39;00m\n\u001b[0;32m   3815\u001b[0m     \u001b[38;5;66;03m#  InvalidIndexError. Otherwise we fall through and re-raise\u001b[39;00m\n\u001b[0;32m   3816\u001b[0m     \u001b[38;5;66;03m#  the TypeError.\u001b[39;00m\n\u001b[0;32m   3817\u001b[0m     \u001b[38;5;28mself\u001b[39m\u001b[38;5;241m.\u001b[39m_check_indexing_error(key)\n",
      "\u001b[1;31mKeyError\u001b[0m: 'longitude'"
     ]
    },
    {
     "data": {
      "image/png": "[encoded data removed]",
      "text/plain": [
       "<Figure size 1000x800 with 1 Axes>"
      ]
     },
     "metadata": {},
     "output_type": "display_data"
    }
   ],
   "source": [
    "# Define figure size\n",
    "plt.figure(figsize=(10, 8))\n",
    "\n",
    "# Map colors for different clusters\n",
    "colors = [\"red\", \"green\", \"blue\"]\n",
    "weather_km['color'] = weather_km['cluster'].map(lambda p: colors[p])\n",
    "\n",
    "# Plot points (spatial data)\n",
    "plt.scatter(\n",
    "    weather_km['longitude'], weather_km['latitude'], \n",
    "    c=weather_km['color'], \n",
    "    label='Data Points'\n",
    ")\n",
    "\n",
    "# Plot centroids\n",
    "plt.scatter(\n",
    "    centroids_df['longitude'], centroids_df['latitude'], \n",
    "    marker=\"*\", \n",
    "    c=colors, \n",
    "    s=550, \n",
    "    edgecolor=\"k\", \n",
    "    label='Centroids'\n",
    ")\n",
    "\n",
    "# Add labels and legend\n",
    "plt.xlabel(\"Longitude\")\n",
    "plt.ylabel(\"Latitude\")\n",
    "plt.title(\"Clusters and Centroids\")\n",
    "plt.legend()\n",
    "plt.show()\n",
    "\n",
    "\n",
    "\n"
   ]
  },
  {
   "cell_type": "code",
   "execution_count": null,
   "id": "09c7059c-4ae7-4014-91c0-9bd255cc5d84",
   "metadata": {},
   "outputs": [],
   "source": []
  }
 ],
 "metadata": {
  "kernelspec": {
   "display_name": "Python 3 (ipykernel)",
   "language": "python",
   "name": "python3"
  },
  "language_info": {
   "codemirror_mode": {
    "name": "ipython",
    "version": 3
   },
   "file_extension": ".py",
   "mimetype": "text/x-python",
   "name": "python",
   "nbconvert_exporter": "python",
   "pygments_lexer": "ipython3",
   "version": "3.12.4"
  }
 },
 "nbformat": 4,
 "nbformat_minor": 5
}
