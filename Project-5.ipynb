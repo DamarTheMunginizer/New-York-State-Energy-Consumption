{
 "cells": [
  {
   "cell_type": "code",
   "execution_count": 1,
   "id": "666f59e5-1151-4229-ada8-90330e1b9761",
   "metadata": {},
   "outputs": [],
   "source": [
    "# Pip install if needed \n",
    "# pip install openmeteo-requests"
   ]
  },
  {
   "cell_type": "code",
   "execution_count": 2,
   "id": "80668ee9-a642-4154-b0f2-82e2a0170f25",
   "metadata": {},
   "outputs": [],
   "source": [
    "# pip install if needed\n",
    "# pip install requests-cache retry-requests numpy pandas"
   ]
  },
  {
   "cell_type": "code",
   "execution_count": 1,
   "id": "8e785e45-f240-4a61-97ea-a016c77582bc",
   "metadata": {},
   "outputs": [],
   "source": [
    "import numpy as np\n",
    "import pandas as pd\n",
    "import matplotlib.pyplot as plt\n",
    "import seaborn as sns\n",
    "from sklearn.cluster import KMeans\n",
    "from sklearn.metrics import silhouette_score\n",
    "from sklearn.preprocessing import StandardScaler\n",
    "from sklearn.pipeline import Pipeline\n",
    "from sklearn.decomposition import PCA\n",
    "\n",
    "np.random.seed(42)"
   ]
  },
  {
   "cell_type": "code",
   "execution_count": 2,
   "id": "e2dae2d8-520a-4325-a9a3-699dc03f310c",
   "metadata": {},
   "outputs": [
    {
     "name": "stderr",
     "output_type": "stream",
     "text": [
      "C:\\Users\\graha\\AppData\\Local\\Temp\\ipykernel_2664\\1420603750.py:1: DtypeWarning: Columns (1,2,3,4,5,6,7,8,9,10,11,12,13,14) have mixed types. Specify dtype option on import or set low_memory=False.\n",
      "  weather = pd.read_csv('./data/new-new-york-weather.csv')\n"
     ]
    },
    {
     "data": {
      "text/plain": [
       "(368796, 15)"
      ]
     },
     "execution_count": 2,
     "metadata": {},
     "output_type": "execute_result"
    }
   ],
   "source": [
    "weather = pd.read_csv('./data/new-new-york-weather.csv')\n",
    "weather.shape"
   ]
  },
  {
   "cell_type": "code",
   "execution_count": 3,
   "id": "7141d124-fb66-4afb-8a2b-5819070340c5",
   "metadata": {},
   "outputs": [
    {
     "data": {
      "text/html": [
       "<div>\n",
       "<style scoped>\n",
       "    .dataframe tbody tr th:only-of-type {\n",
       "        vertical-align: middle;\n",
       "    }\n",
       "\n",
       "    .dataframe tbody tr th {\n",
       "        vertical-align: top;\n",
       "    }\n",
       "\n",
       "    .dataframe thead th {\n",
       "        text-align: right;\n",
       "    }\n",
       "</style>\n",
       "<table border=\"1\" class=\"dataframe\">\n",
       "  <thead>\n",
       "    <tr style=\"text-align: right;\">\n",
       "      <th></th>\n",
       "      <th>date</th>\n",
       "      <th>temperature_2m_max</th>\n",
       "      <th>temperature_2m_min</th>\n",
       "      <th>daylight_duration</th>\n",
       "      <th>sunshine_duration</th>\n",
       "      <th>uv_index_max</th>\n",
       "      <th>uv_index_clear_sky_max</th>\n",
       "      <th>rain_sum</th>\n",
       "      <th>showers_sum</th>\n",
       "      <th>snowfall_sum</th>\n",
       "      <th>precipitation_hours</th>\n",
       "      <th>wind_speed_10m_max</th>\n",
       "      <th>wind_gusts_10m_max</th>\n",
       "      <th>latitude</th>\n",
       "      <th>longitude</th>\n",
       "    </tr>\n",
       "  </thead>\n",
       "  <tbody>\n",
       "    <tr>\n",
       "      <th>0</th>\n",
       "      <td>2024-01-01 05:00:00+00:00</td>\n",
       "      <td>1.3405</td>\n",
       "      <td>-5.4095</td>\n",
       "      <td>32828.926</td>\n",
       "      <td>28801.018</td>\n",
       "      <td>NaN</td>\n",
       "      <td>NaN</td>\n",
       "      <td>0</td>\n",
       "      <td>0</td>\n",
       "      <td>0</td>\n",
       "      <td>0</td>\n",
       "      <td>15.463246</td>\n",
       "      <td>31.68</td>\n",
       "      <td>42.6</td>\n",
       "      <td>-73.97</td>\n",
       "    </tr>\n",
       "    <tr>\n",
       "      <th>1</th>\n",
       "      <td>2024-01-02 05:00:00+00:00</td>\n",
       "      <td>4.0905</td>\n",
       "      <td>-5.6095</td>\n",
       "      <td>32877.49</td>\n",
       "      <td>26970.928</td>\n",
       "      <td>NaN</td>\n",
       "      <td>NaN</td>\n",
       "      <td>0</td>\n",
       "      <td>0</td>\n",
       "      <td>0</td>\n",
       "      <td>0</td>\n",
       "      <td>14.904173</td>\n",
       "      <td>34.56</td>\n",
       "      <td>42.6</td>\n",
       "      <td>-73.97</td>\n",
       "    </tr>\n",
       "    <tr>\n",
       "      <th>2</th>\n",
       "      <td>2024-01-03 05:00:00+00:00</td>\n",
       "      <td>3.4405</td>\n",
       "      <td>-2.7595</td>\n",
       "      <td>32930</td>\n",
       "      <td>7048.836</td>\n",
       "      <td>NaN</td>\n",
       "      <td>NaN</td>\n",
       "      <td>0</td>\n",
       "      <td>0</td>\n",
       "      <td>0</td>\n",
       "      <td>0</td>\n",
       "      <td>10.787993</td>\n",
       "      <td>25.56</td>\n",
       "      <td>42.6</td>\n",
       "      <td>-73.97</td>\n",
       "    </tr>\n",
       "    <tr>\n",
       "      <th>3</th>\n",
       "      <td>2024-01-04 05:00:00+00:00</td>\n",
       "      <td>2.5904999</td>\n",
       "      <td>-7.2595</td>\n",
       "      <td>32986.375</td>\n",
       "      <td>28849.451</td>\n",
       "      <td>NaN</td>\n",
       "      <td>NaN</td>\n",
       "      <td>0</td>\n",
       "      <td>0</td>\n",
       "      <td>0.07</td>\n",
       "      <td>1</td>\n",
       "      <td>22.725668</td>\n",
       "      <td>52.199997</td>\n",
       "      <td>42.6</td>\n",
       "      <td>-73.97</td>\n",
       "    </tr>\n",
       "    <tr>\n",
       "      <th>4</th>\n",
       "      <td>2024-01-05 05:00:00+00:00</td>\n",
       "      <td>1.1405</td>\n",
       "      <td>-7.2595</td>\n",
       "      <td>33046.516</td>\n",
       "      <td>19035.062</td>\n",
       "      <td>NaN</td>\n",
       "      <td>NaN</td>\n",
       "      <td>0</td>\n",
       "      <td>0</td>\n",
       "      <td>0</td>\n",
       "      <td>0</td>\n",
       "      <td>21.142147</td>\n",
       "      <td>47.88</td>\n",
       "      <td>42.6</td>\n",
       "      <td>-73.97</td>\n",
       "    </tr>\n",
       "  </tbody>\n",
       "</table>\n",
       "</div>"
      ],
      "text/plain": [
       "                        date temperature_2m_max temperature_2m_min  \\\n",
       "0  2024-01-01 05:00:00+00:00             1.3405            -5.4095   \n",
       "1  2024-01-02 05:00:00+00:00             4.0905            -5.6095   \n",
       "2  2024-01-03 05:00:00+00:00             3.4405            -2.7595   \n",
       "3  2024-01-04 05:00:00+00:00          2.5904999            -7.2595   \n",
       "4  2024-01-05 05:00:00+00:00             1.1405            -7.2595   \n",
       "\n",
       "  daylight_duration sunshine_duration uv_index_max uv_index_clear_sky_max  \\\n",
       "0         32828.926         28801.018          NaN                    NaN   \n",
       "1          32877.49         26970.928          NaN                    NaN   \n",
       "2             32930          7048.836          NaN                    NaN   \n",
       "3         32986.375         28849.451          NaN                    NaN   \n",
       "4         33046.516         19035.062          NaN                    NaN   \n",
       "\n",
       "  rain_sum showers_sum snowfall_sum precipitation_hours wind_speed_10m_max  \\\n",
       "0        0           0            0                   0          15.463246   \n",
       "1        0           0            0                   0          14.904173   \n",
       "2        0           0            0                   0          10.787993   \n",
       "3        0           0         0.07                   1          22.725668   \n",
       "4        0           0            0                   0          21.142147   \n",
       "\n",
       "  wind_gusts_10m_max latitude longitude  \n",
       "0              31.68     42.6    -73.97  \n",
       "1              34.56     42.6    -73.97  \n",
       "2              25.56     42.6    -73.97  \n",
       "3          52.199997     42.6    -73.97  \n",
       "4              47.88     42.6    -73.97  "
      ]
     },
     "execution_count": 3,
     "metadata": {},
     "output_type": "execute_result"
    }
   ],
   "source": [
    "weather.head()"
   ]
  },
  {
   "cell_type": "code",
   "execution_count": 9,
   "id": "76a30fc6-dea9-4ede-8ea7-39950e34e77b",
   "metadata": {},
   "outputs": [],
   "source": [
    "weather = weather.drop(columns = ['uv_index_max','uv_index_clear_sky_max'])"
   ]
  },
  {
   "cell_type": "markdown",
   "id": "1fe471fa-69e7-4b90-99b3-733b0c8308a7",
   "metadata": {},
   "source": [
    "### Drop strings in the dataframe that came from improper appending"
   ]
  },
  {
   "cell_type": "code",
   "execution_count": 10,
   "id": "a60ef2b6-f8a8-4ad2-b9a2-29b45ace8df5",
   "metadata": {
    "scrolled": true
   },
   "outputs": [
    {
     "data": {
      "text/html": [
       "<div>\n",
       "<style scoped>\n",
       "    .dataframe tbody tr th:only-of-type {\n",
       "        vertical-align: middle;\n",
       "    }\n",
       "\n",
       "    .dataframe tbody tr th {\n",
       "        vertical-align: top;\n",
       "    }\n",
       "\n",
       "    .dataframe thead th {\n",
       "        text-align: right;\n",
       "    }\n",
       "</style>\n",
       "<table border=\"1\" class=\"dataframe\">\n",
       "  <thead>\n",
       "    <tr style=\"text-align: right;\">\n",
       "      <th></th>\n",
       "      <th>date</th>\n",
       "      <th>temperature_2m_max</th>\n",
       "      <th>temperature_2m_min</th>\n",
       "      <th>daylight_duration</th>\n",
       "      <th>sunshine_duration</th>\n",
       "      <th>rain_sum</th>\n",
       "      <th>showers_sum</th>\n",
       "      <th>snowfall_sum</th>\n",
       "      <th>precipitation_hours</th>\n",
       "      <th>wind_speed_10m_max</th>\n",
       "      <th>wind_gusts_10m_max</th>\n",
       "      <th>latitude</th>\n",
       "      <th>longitude</th>\n",
       "    </tr>\n",
       "  </thead>\n",
       "  <tbody>\n",
       "    <tr>\n",
       "      <th>5084</th>\n",
       "      <td>date</td>\n",
       "      <td>temperature_2m_max</td>\n",
       "      <td>temperature_2m_min</td>\n",
       "      <td>daylight_duration</td>\n",
       "      <td>sunshine_duration</td>\n",
       "      <td>rain_sum</td>\n",
       "      <td>showers_sum</td>\n",
       "      <td>snowfall_sum</td>\n",
       "      <td>precipitation_hours</td>\n",
       "      <td>wind_speed_10m_max</td>\n",
       "      <td>wind_gusts_10m_max</td>\n",
       "      <td>latitude</td>\n",
       "      <td>longitude</td>\n",
       "    </tr>\n",
       "    <tr>\n",
       "      <th>65675</th>\n",
       "      <td>date</td>\n",
       "      <td>temperature_2m_max</td>\n",
       "      <td>temperature_2m_min</td>\n",
       "      <td>daylight_duration</td>\n",
       "      <td>sunshine_duration</td>\n",
       "      <td>rain_sum</td>\n",
       "      <td>showers_sum</td>\n",
       "      <td>snowfall_sum</td>\n",
       "      <td>precipitation_hours</td>\n",
       "      <td>wind_speed_10m_max</td>\n",
       "      <td>wind_gusts_10m_max</td>\n",
       "      <td>latitude</td>\n",
       "      <td>longitude</td>\n",
       "    </tr>\n",
       "    <tr>\n",
       "      <th>126266</th>\n",
       "      <td>date</td>\n",
       "      <td>temperature_2m_max</td>\n",
       "      <td>temperature_2m_min</td>\n",
       "      <td>daylight_duration</td>\n",
       "      <td>sunshine_duration</td>\n",
       "      <td>rain_sum</td>\n",
       "      <td>showers_sum</td>\n",
       "      <td>snowfall_sum</td>\n",
       "      <td>precipitation_hours</td>\n",
       "      <td>wind_speed_10m_max</td>\n",
       "      <td>wind_gusts_10m_max</td>\n",
       "      <td>latitude</td>\n",
       "      <td>longitude</td>\n",
       "    </tr>\n",
       "    <tr>\n",
       "      <th>187023</th>\n",
       "      <td>date</td>\n",
       "      <td>temperature_2m_max</td>\n",
       "      <td>temperature_2m_min</td>\n",
       "      <td>daylight_duration</td>\n",
       "      <td>sunshine_duration</td>\n",
       "      <td>rain_sum</td>\n",
       "      <td>showers_sum</td>\n",
       "      <td>snowfall_sum</td>\n",
       "      <td>precipitation_hours</td>\n",
       "      <td>wind_speed_10m_max</td>\n",
       "      <td>wind_gusts_10m_max</td>\n",
       "      <td>latitude</td>\n",
       "      <td>longitude</td>\n",
       "    </tr>\n",
       "    <tr>\n",
       "      <th>247614</th>\n",
       "      <td>date</td>\n",
       "      <td>temperature_2m_max</td>\n",
       "      <td>temperature_2m_min</td>\n",
       "      <td>daylight_duration</td>\n",
       "      <td>sunshine_duration</td>\n",
       "      <td>rain_sum</td>\n",
       "      <td>showers_sum</td>\n",
       "      <td>snowfall_sum</td>\n",
       "      <td>precipitation_hours</td>\n",
       "      <td>wind_speed_10m_max</td>\n",
       "      <td>wind_gusts_10m_max</td>\n",
       "      <td>latitude</td>\n",
       "      <td>longitude</td>\n",
       "    </tr>\n",
       "    <tr>\n",
       "      <th>308205</th>\n",
       "      <td>date</td>\n",
       "      <td>temperature_2m_max</td>\n",
       "      <td>temperature_2m_min</td>\n",
       "      <td>daylight_duration</td>\n",
       "      <td>sunshine_duration</td>\n",
       "      <td>rain_sum</td>\n",
       "      <td>showers_sum</td>\n",
       "      <td>snowfall_sum</td>\n",
       "      <td>precipitation_hours</td>\n",
       "      <td>wind_speed_10m_max</td>\n",
       "      <td>wind_gusts_10m_max</td>\n",
       "      <td>latitude</td>\n",
       "      <td>longitude</td>\n",
       "    </tr>\n",
       "  </tbody>\n",
       "</table>\n",
       "</div>"
      ],
      "text/plain": [
       "        date  temperature_2m_max  temperature_2m_min  daylight_duration  \\\n",
       "5084    date  temperature_2m_max  temperature_2m_min  daylight_duration   \n",
       "65675   date  temperature_2m_max  temperature_2m_min  daylight_duration   \n",
       "126266  date  temperature_2m_max  temperature_2m_min  daylight_duration   \n",
       "187023  date  temperature_2m_max  temperature_2m_min  daylight_duration   \n",
       "247614  date  temperature_2m_max  temperature_2m_min  daylight_duration   \n",
       "308205  date  temperature_2m_max  temperature_2m_min  daylight_duration   \n",
       "\n",
       "        sunshine_duration  rain_sum  showers_sum  snowfall_sum  \\\n",
       "5084    sunshine_duration  rain_sum  showers_sum  snowfall_sum   \n",
       "65675   sunshine_duration  rain_sum  showers_sum  snowfall_sum   \n",
       "126266  sunshine_duration  rain_sum  showers_sum  snowfall_sum   \n",
       "187023  sunshine_duration  rain_sum  showers_sum  snowfall_sum   \n",
       "247614  sunshine_duration  rain_sum  showers_sum  snowfall_sum   \n",
       "308205  sunshine_duration  rain_sum  showers_sum  snowfall_sum   \n",
       "\n",
       "        precipitation_hours  wind_speed_10m_max  wind_gusts_10m_max  latitude  \\\n",
       "5084    precipitation_hours  wind_speed_10m_max  wind_gusts_10m_max  latitude   \n",
       "65675   precipitation_hours  wind_speed_10m_max  wind_gusts_10m_max  latitude   \n",
       "126266  precipitation_hours  wind_speed_10m_max  wind_gusts_10m_max  latitude   \n",
       "187023  precipitation_hours  wind_speed_10m_max  wind_gusts_10m_max  latitude   \n",
       "247614  precipitation_hours  wind_speed_10m_max  wind_gusts_10m_max  latitude   \n",
       "308205  precipitation_hours  wind_speed_10m_max  wind_gusts_10m_max  latitude   \n",
       "\n",
       "        longitude  \n",
       "5084    longitude  \n",
       "65675   longitude  \n",
       "126266  longitude  \n",
       "187023  longitude  \n",
       "247614  longitude  \n",
       "308205  longitude  "
      ]
     },
     "execution_count": 10,
     "metadata": {},
     "output_type": "execute_result"
    }
   ],
   "source": [
    "weather[weather['daylight_duration'].astype(str).str.contains('day')]"
   ]
  },
  {
   "cell_type": "code",
   "execution_count": 11,
   "id": "3531f2a7-358d-49ec-8a1e-99bced1049e8",
   "metadata": {},
   "outputs": [],
   "source": [
    "weather = weather.drop(weather[weather['daylight_duration'].astype(str).str.contains('day')].index)"
   ]
  },
  {
   "cell_type": "code",
   "execution_count": 12,
   "id": "cf2dfbf4-9176-4486-8fc1-24b668b63813",
   "metadata": {},
   "outputs": [
    {
     "data": {
      "text/html": [
       "<div>\n",
       "<style scoped>\n",
       "    .dataframe tbody tr th:only-of-type {\n",
       "        vertical-align: middle;\n",
       "    }\n",
       "\n",
       "    .dataframe tbody tr th {\n",
       "        vertical-align: top;\n",
       "    }\n",
       "\n",
       "    .dataframe thead th {\n",
       "        text-align: right;\n",
       "    }\n",
       "</style>\n",
       "<table border=\"1\" class=\"dataframe\">\n",
       "  <thead>\n",
       "    <tr style=\"text-align: right;\">\n",
       "      <th></th>\n",
       "      <th>date</th>\n",
       "      <th>temperature_2m_max</th>\n",
       "      <th>temperature_2m_min</th>\n",
       "      <th>daylight_duration</th>\n",
       "      <th>sunshine_duration</th>\n",
       "      <th>rain_sum</th>\n",
       "      <th>showers_sum</th>\n",
       "      <th>snowfall_sum</th>\n",
       "      <th>precipitation_hours</th>\n",
       "      <th>wind_speed_10m_max</th>\n",
       "      <th>wind_gusts_10m_max</th>\n",
       "      <th>latitude</th>\n",
       "      <th>longitude</th>\n",
       "    </tr>\n",
       "  </thead>\n",
       "  <tbody>\n",
       "  </tbody>\n",
       "</table>\n",
       "</div>"
      ],
      "text/plain": [
       "Empty DataFrame\n",
       "Columns: [date, temperature_2m_max, temperature_2m_min, daylight_duration, sunshine_duration, rain_sum, showers_sum, snowfall_sum, precipitation_hours, wind_speed_10m_max, wind_gusts_10m_max, latitude, longitude]\n",
       "Index: []"
      ]
     },
     "execution_count": 12,
     "metadata": {},
     "output_type": "execute_result"
    }
   ],
   "source": [
    "weather[weather['daylight_duration'].astype(str).str.contains('day')]"
   ]
  },
  {
   "cell_type": "markdown",
   "id": "08d4f245-e0d1-4342-bd0a-563348b61b28",
   "metadata": {},
   "source": [
    "### Sort the dataframe by date"
   ]
  },
  {
   "cell_type": "code",
   "execution_count": 13,
   "id": "6b70d115-7386-4bc0-b770-b39ae6e4f235",
   "metadata": {},
   "outputs": [],
   "source": [
    "weather = weather.sort_values('date')"
   ]
  },
  {
   "cell_type": "markdown",
   "id": "c0aa13e2-6104-4ea0-b441-129f8b93ee75",
   "metadata": {},
   "source": [
    "### Delete the time in all the dates and remove the white space made"
   ]
  },
  {
   "cell_type": "code",
   "execution_count": 14,
   "id": "9866e707-e049-4e08-85ac-86fceb2c375a",
   "metadata": {},
   "outputs": [],
   "source": [
    "weather['date'] = weather['date'].str.replace('05:00:00+00:00', '')\n",
    "weather['date'] = weather['date'].str.strip()"
   ]
  },
  {
   "cell_type": "code",
   "execution_count": 15,
   "id": "95fb1bc0-6b9a-4610-b7f6-5c0e0b5cabcd",
   "metadata": {},
   "outputs": [
    {
     "name": "stdout",
     "output_type": "stream",
     "text": [
      "<class 'pandas.core.frame.DataFrame'>\n",
      "Index: 368790 entries, 291050 to 335\n",
      "Data columns (total 13 columns):\n",
      " #   Column               Non-Null Count   Dtype \n",
      "---  ------               --------------   ----- \n",
      " 0   date                 368790 non-null  object\n",
      " 1   temperature_2m_max   368790 non-null  object\n",
      " 2   temperature_2m_min   368790 non-null  object\n",
      " 3   daylight_duration    368790 non-null  object\n",
      " 4   sunshine_duration    368788 non-null  object\n",
      " 5   rain_sum             368790 non-null  object\n",
      " 6   showers_sum          368790 non-null  object\n",
      " 7   snowfall_sum         368790 non-null  object\n",
      " 8   precipitation_hours  368790 non-null  object\n",
      " 9   wind_speed_10m_max   368790 non-null  object\n",
      " 10  wind_gusts_10m_max   368790 non-null  object\n",
      " 11  latitude             368790 non-null  object\n",
      " 12  longitude            368790 non-null  object\n",
      "dtypes: object(13)\n",
      "memory usage: 39.4+ MB\n"
     ]
    }
   ],
   "source": [
    "weather.info()"
   ]
  },
  {
   "cell_type": "code",
   "execution_count": 17,
   "id": "d291c699-7f41-429c-98cd-ee206719ef83",
   "metadata": {},
   "outputs": [],
   "source": [
    "weather[['temperature_2m_max','temperature_2m_min',\"daylight_duration\",\"sunshine_duration\",\"rain_sum\",'showers_sum',\n",
    "         \"snowfall_sum\",\"precipitation_hours\",\"wind_speed_10m_max\",\"wind_gusts_10m_max\",\"latitude\",\"longitude\"]] = weather[['temperature_2m_max','temperature_2m_min',\"daylight_duration\",\"sunshine_duration\",\"rain_sum\",'showers_sum',\n",
    "         \"snowfall_sum\",\"precipitation_hours\",\"wind_speed_10m_max\",\"wind_gusts_10m_max\",\"latitude\",\"longitude\"]].apply(pd.to_numeric)"
   ]
  },
  {
   "cell_type": "code",
   "execution_count": 18,
   "id": "dd4bf666-d967-45de-837a-361e955b4b01",
   "metadata": {},
   "outputs": [],
   "source": [
    "weather['precipitation_total'] = weather['rain_sum'] + weather['snowfall_sum'] \n",
    "weather['location'] = list(zip(weather['latitude'],weather['longitude']))"
   ]
  },
  {
   "cell_type": "code",
   "execution_count": 19,
   "id": "d25f9941-8d9b-412c-beca-c7579fa56687",
   "metadata": {},
   "outputs": [
    {
     "data": {
      "text/plain": [
       "(368790, 15)"
      ]
     },
     "execution_count": 19,
     "metadata": {},
     "output_type": "execute_result"
    }
   ],
   "source": [
    "# Group by 'location'\n",
    "grouped = weather.groupby('location')\n",
    "\n",
    "# Drop duplicates based on 'date' for each group\n",
    "weather = pd.concat([group.drop_duplicates(subset=['date']) for _, group in grouped], ignore_index=True)\n",
    "\n",
    "# Display the first few rows of the cleaned DataFrame\n",
    "weather.shape"
   ]
  },
  {
   "cell_type": "code",
   "execution_count": 20,
   "id": "032a1b24-3119-4b5e-9db7-c083f83f745b",
   "metadata": {},
   "outputs": [
    {
     "name": "stdout",
     "output_type": "stream",
     "text": [
      "<class 'pandas.core.frame.DataFrame'>\n",
      "RangeIndex: 368790 entries, 0 to 368789\n",
      "Data columns (total 15 columns):\n",
      " #   Column               Non-Null Count   Dtype  \n",
      "---  ------               --------------   -----  \n",
      " 0   date                 368790 non-null  object \n",
      " 1   temperature_2m_max   368790 non-null  float64\n",
      " 2   temperature_2m_min   368790 non-null  float64\n",
      " 3   daylight_duration    368790 non-null  float64\n",
      " 4   sunshine_duration    368788 non-null  float64\n",
      " 5   rain_sum             368790 non-null  float64\n",
      " 6   showers_sum          368790 non-null  float64\n",
      " 7   snowfall_sum         368790 non-null  float64\n",
      " 8   precipitation_hours  368790 non-null  float64\n",
      " 9   wind_speed_10m_max   368790 non-null  float64\n",
      " 10  wind_gusts_10m_max   368790 non-null  float64\n",
      " 11  latitude             368790 non-null  float64\n",
      " 12  longitude            368790 non-null  float64\n",
      " 13  precipitation_total  368790 non-null  float64\n",
      " 14  location             368790 non-null  object \n",
      "dtypes: float64(13), object(2)\n",
      "memory usage: 42.2+ MB\n"
     ]
    }
   ],
   "source": [
    "weather.info()"
   ]
  },
  {
   "cell_type": "code",
   "execution_count": 21,
   "id": "be060799-4012-47cc-8b93-c24dbb15bc36",
   "metadata": {},
   "outputs": [
    {
     "data": {
      "text/plain": [
       "date                   0\n",
       "temperature_2m_max     0\n",
       "temperature_2m_min     0\n",
       "daylight_duration      0\n",
       "sunshine_duration      2\n",
       "rain_sum               0\n",
       "showers_sum            0\n",
       "snowfall_sum           0\n",
       "precipitation_hours    0\n",
       "wind_speed_10m_max     0\n",
       "wind_gusts_10m_max     0\n",
       "latitude               0\n",
       "longitude              0\n",
       "precipitation_total    0\n",
       "location               0\n",
       "dtype: int64"
      ]
     },
     "execution_count": 21,
     "metadata": {},
     "output_type": "execute_result"
    }
   ],
   "source": [
    "weather.isnull().sum()"
   ]
  },
  {
   "cell_type": "code",
   "execution_count": 24,
   "id": "0895156a-4f67-4dbf-ae9c-57f640e27712",
   "metadata": {},
   "outputs": [],
   "source": [
    "weather.dropna(inplace = True)"
   ]
  },
  {
   "cell_type": "markdown",
   "id": "d6d442d6-a95b-441f-b9d9-5da2ed52a73c",
   "metadata": {},
   "source": [
    "Make a clustering model with everything "
   ]
  },
  {
   "cell_type": "code",
   "execution_count": 40,
   "id": "006fb075-5fce-4a6c-b759-50b28b87541d",
   "metadata": {},
   "outputs": [
    {
     "name": "stderr",
     "output_type": "stream",
     "text": [
      "C:\\Users\\graha\\anaconda3\\Lib\\site-packages\\sklearn\\cluster\\_kmeans.py:1411: UserWarning: KMeans is known to have a memory leak on Windows with MKL, when there are less chunks than available threads. You can avoid it by setting the environment variable OMP_NUM_THREADS=2.\n",
      "  warnings.warn(\n"
     ]
    }
   ],
   "source": [
    "weather_km = weather.copy()\n",
    "weather_km['date'] = pd.to_datetime(weather_km['date'])\n",
    "df_2020 = weather_km[weather_km['date'].dt.year == 2020]\n",
    "X = df_2020.drop(columns = ['date','location','rain_sum','snowfall_sum'])\n",
    "\n",
    "pipe_km = Pipeline([\n",
    "    ('sc', StandardScaler()),\n",
    "    ('pca',PCA(n_components=5)),\n",
    "    ('km', KMeans(n_clusters=2))\n",
    "])\n",
    "\n",
    "pipe_km.fit(X)\n",
    "\n",
    "\n",
    "cluster_centers = pipe_km.named_steps['km'].cluster_centers_\n",
    "centroids_pca = pipe_km.named_steps['pca'].inverse_transform(cluster_centers)\n",
    "centroids = pipe_km.named_steps['sc'].inverse_transform(centroids_pca)\n",
    "\n",
    "\n",
    "centroids_df = pd.DataFrame(\n",
    "    centroids,\n",
    "    columns=X.columns\n",
    ")"
   ]
  },
  {
   "cell_type": "code",
   "execution_count": 41,
   "id": "7a7f525c-731b-4644-8d2a-b46b13bf58ef",
   "metadata": {},
   "outputs": [
    {
     "data": {
      "text/plain": [
       "array([0.438, 0.265, 0.173, 0.052, 0.043])"
      ]
     },
     "execution_count": 41,
     "metadata": {},
     "output_type": "execute_result"
    }
   ],
   "source": [
    "# This showed that 5 components explaied about 91% of the variance for PCA so that was changed in the pipeline\n",
    "var_exp = pipe_km['pca'].explained_variance_ratio_\n",
    "np.round(var_exp[:8],3)"
   ]
  },
  {
   "cell_type": "code",
   "execution_count": 42,
   "id": "7c515d53-d78b-4a6b-97b4-2bda740bb989",
   "metadata": {},
   "outputs": [
    {
     "name": "stderr",
     "output_type": "stream",
     "text": [
      "C:\\Users\\graha\\anaconda3\\Lib\\site-packages\\sklearn\\utils\\validation.py:2732: UserWarning: X has feature names, but PCA was fitted without feature names\n",
      "  warnings.warn(\n"
     ]
    },
    {
     "data": {
      "text/plain": [
       "0.4400710908002623"
      ]
     },
     "execution_count": 42,
     "metadata": {},
     "output_type": "execute_result"
    }
   ],
   "source": [
    "# commenting out since it takes about 5 min to run \n",
    "X_scaled_pca = pipe_km.named_steps['pca'].transform(X)\n",
    "cluster_labels = pipe_km.named_steps['km'].labels_\n",
    "silhouette_score(X_scaled_pca, cluster_labels)\n",
    "\n",
    "# got a score of 0.29 since it goes from -1 to 1 this is a pretty bad score when using PCA n_components 5 and KMeans(n_clusters = 3)"
   ]
  },
  {
   "cell_type": "code",
   "execution_count": 17,
   "id": "7ba04604-4b3b-401e-9e1c-1a50652cb78a",
   "metadata": {},
   "outputs": [
    {
     "data": {
      "image/png": "[encoded data removed]",
      "text/plain": [
       "<Figure size 1000x800 with 1 Axes>"
      ]
     },
     "metadata": {},
     "output_type": "display_data"
    }
   ],
   "source": [
    "# Define figure size\n",
    "plt.figure(figsize=(10, 8))\n",
    "\n",
    "# Map colors for different clusters\n",
    "colors = [\"red\", \"green\", \"blue\"]\n",
    "weather_km['color'] = weather_km['cluster'].map(lambda p: colors[p])\n",
    "\n",
    "# Plot points (spatial data)\n",
    "plt.scatter(\n",
    "    weather_km['longitude'], weather_km['latitude'], \n",
    "    c=weather_km['color'], \n",
    "    label='Data Points'\n",
    ")\n",
    "\n",
    "# Plot centroids\n",
    "plt.scatter(\n",
    "    centroids_df['longitude'], centroids_df['latitude'], \n",
    "    marker=\"*\", \n",
    "    c=colors, \n",
    "    s=550, \n",
    "    edgecolor=\"k\", \n",
    "    label='Centroids'\n",
    ")\n",
    "\n",
    "# Add labels and legend\n",
    "plt.xlabel(\"Longitude\")\n",
    "plt.ylabel(\"Latitude\")\n",
    "plt.title(\"Clusters and Centroids\")\n",
    "plt.legend()\n",
    "plt.show()\n",
    "\n",
    "\n",
    "\n"
   ]
  },
  {
   "cell_type": "code",
   "execution_count": null,
   "id": "09c7059c-4ae7-4014-91c0-9bd255cc5d84",
   "metadata": {},
   "outputs": [],
   "source": []
  }
 ],
 "metadata": {
  "kernelspec": {
   "display_name": "Python 3 (ipykernel)",
   "language": "python",
   "name": "python3"
  },
  "language_info": {
   "codemirror_mode": {
    "name": "ipython",
    "version": 3
   },
   "file_extension": ".py",
   "mimetype": "text/x-python",
   "name": "python",
   "nbconvert_exporter": "python",
   "pygments_lexer": "ipython3",
   "version": "3.12.4"
  }
 },
 "nbformat": 4,
 "nbformat_minor": 5
}
