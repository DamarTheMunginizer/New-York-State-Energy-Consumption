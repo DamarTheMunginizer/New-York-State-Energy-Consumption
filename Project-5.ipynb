{
 "cells": [
  {
   "cell_type": "code",
   "execution_count": 1,
   "id": "666f59e5-1151-4229-ada8-90330e1b9761",
   "metadata": {},
   "outputs": [],
   "source": [
    "# Pip install if needed \n",
    "# pip install openmeteo-requests"
   ]
  },
  {
   "cell_type": "code",
   "execution_count": 2,
   "id": "80668ee9-a642-4154-b0f2-82e2a0170f25",
   "metadata": {},
   "outputs": [],
   "source": [
    "# pip install if needed\n",
    "# pip install requests-cache retry-requests numpy pandas"
   ]
  },
  {
   "cell_type": "code",
   "execution_count": 5,
   "id": "8e785e45-f240-4a61-97ea-a016c77582bc",
   "metadata": {},
   "outputs": [],
   "source": [
    "import numpy as np\n",
    "import pandas as pd\n",
    "import matplotlib.pyplot as plt\n",
    "import seaborn as sns\n",
    "\n",
    "# imports needed for open-meteo.com data\n",
    "from retry_requests import retry\n",
    "import openmeteo_requests\n",
    "import requests_cache"
   ]
  },
  {
   "cell_type": "code",
   "execution_count": 6,
   "id": "78fe6ef7-a145-4969-a106-61cda0074a87",
   "metadata": {},
   "outputs": [
    {
     "name": "stdout",
     "output_type": "stream",
     "text": [
      "Coordinates 40.456939697265625°N -79.7178955078125°E\n",
      "Elevation 329.0 m asl\n",
      "Timezone b'America/New_York' b'EST'\n",
      "Timezone difference to GMT+0 -18000 s\n"
     ]
    }
   ],
   "source": [
    "# commented out so this is not run everytime the kernel needs to be restarted\n",
    "\n",
    "# Setup the Open-Meteo API client with cache and retry on error\n",
    "cache_session = requests_cache.CachedSession('.cache', expire_after = -1)\n",
    "retry_session = retry(cache_session, retries = 5, backoff_factor = 0.2)\n",
    "openmeteo = openmeteo_requests.Client(session = retry_session)\n",
    "\n",
    "# Make sure all required weather variables are listed here\n",
    "# The order of variables in hourly or daily is important to assign them correctly below\n",
    "url = \"https://archive-api.open-meteo.com/v1/archive\"\n",
    "params = {\n",
    "\t\"latitude\": [40.49, 40.49, 40.49, 40.49, 40.49, 40.49, 40.49, 40.49, 41.49, 41.49, 41.49, 41.49, 41.49, 41.49, 41.49, 41.49, 42.49, 42.49, 42.49, 42.49, \n",
    "                 42.49, 42.49, 42.49, 42.49, 43.49, 43.49, 43.49, 43.49, 43.49, 43.49, 43.49, 43.49, 44.49, 44.49, 44.49, 44.49, 44.49, 44.49, 44.49, 44.49],\n",
    "\t\"longitude\": [-79.76, -78.76, -77.76, -76.76, -75.76, -74.76, -73.76, -72.76, -79.76, -78.76, -77.76, -76.76, -75.76, -74.76, -73.76, -72.76, -79.76,\n",
    "                  -78.76, -77.76, -76.76, -75.76, -74.76, -73.76, -72.76, -79.76, -78.76, -77.76, -76.76, -75.76, -74.76, -73.76, -72.76, -79.76, -78.76, -77.76, -76.76, -75.76, -74.76, -73.76, -72.76],\n",
    "\t\"start_date\": \"1980-01-01\",\n",
    "\t\"end_date\": \"2024-12-01\",\n",
    "\t\"daily\": [\"weather_code\", \"temperature_2m_max\", \"temperature_2m_min\", \"temperature_2m_mean\", \"apparent_temperature_max\", \"apparent_temperature_min\",\n",
    "              \"apparent_temperature_mean\", \"sunrise\", \"sunset\", \"daylight_duration\", \"sunshine_duration\", \"precipitation_sum\", \"rain_sum\", \"snowfall_sum\", \"precipitation_hours\", \n",
    "              \"wind_speed_10m_max\", \"wind_gusts_10m_max\", \"wind_direction_10m_dominant\", \"shortwave_radiation_sum\", \"et0_fao_evapotranspiration\"],\n",
    "\t\"timezone\": \"America/New_York\"\n",
    "}\n",
    "responses = openmeteo.weather_api(url, params=params)\n",
    "\n",
    "# Process first location. Add a for-loop for multiple locations or weather models\n",
    "response = responses[0]\n",
    "print(f\"Coordinates {response.Latitude()}°N {response.Longitude()}°E\")\n",
    "print(f\"Elevation {response.Elevation()} m asl\")\n",
    "print(f\"Timezone {response.Timezone()} {response.TimezoneAbbreviation()}\")\n",
    "print(f\"Timezone difference to GMT+0 {response.UtcOffsetSeconds()} s\")\n",
    "\n",
    "# Process daily data. The order of variables needs to be the same as requested.\n",
    "daily = response.Daily()\n",
    "daily_weather_code = daily.Variables(0).ValuesAsNumpy()\n",
    "daily_temperature_2m_max = daily.Variables(1).ValuesAsNumpy()\n",
    "daily_temperature_2m_min = daily.Variables(2).ValuesAsNumpy()\n",
    "daily_temperature_2m_mean = daily.Variables(3).ValuesAsNumpy()\n",
    "daily_apparent_temperature_max = daily.Variables(4).ValuesAsNumpy()\n",
    "daily_apparent_temperature_min = daily.Variables(5).ValuesAsNumpy()\n",
    "daily_apparent_temperature_mean = daily.Variables(6).ValuesAsNumpy()\n",
    "daily_sunrise = daily.Variables(7).ValuesAsNumpy()\n",
    "daily_sunset = daily.Variables(8).ValuesAsNumpy()\n",
    "daily_daylight_duration = daily.Variables(9).ValuesAsNumpy()\n",
    "daily_sunshine_duration = daily.Variables(10).ValuesAsNumpy()\n",
    "daily_precipitation_sum = daily.Variables(11).ValuesAsNumpy()\n",
    "daily_rain_sum = daily.Variables(12).ValuesAsNumpy()\n",
    "daily_snowfall_sum = daily.Variables(13).ValuesAsNumpy()\n",
    "daily_precipitation_hours = daily.Variables(14).ValuesAsNumpy()\n",
    "daily_wind_speed_10m_max = daily.Variables(15).ValuesAsNumpy()\n",
    "daily_wind_gusts_10m_max = daily.Variables(16).ValuesAsNumpy()\n",
    "daily_wind_direction_10m_dominant = daily.Variables(17).ValuesAsNumpy()\n",
    "daily_shortwave_radiation_sum = daily.Variables(18).ValuesAsNumpy()\n",
    "daily_et0_fao_evapotranspiration = daily.Variables(19).ValuesAsNumpy()\n",
    "\n",
    "daily_data = {\"date\": pd.date_range(\n",
    "\tstart = pd.to_datetime(daily.Time(), unit = \"s\", utc = True),\n",
    "\tend = pd.to_datetime(daily.TimeEnd(), unit = \"s\", utc = True),\n",
    "\tfreq = pd.Timedelta(seconds = daily.Interval()),\n",
    "\tinclusive = \"left\"\n",
    ")}\n",
    "daily_data[\"weather_code\"] = daily_weather_code\n",
    "daily_data[\"temperature_2m_max\"] = daily_temperature_2m_max\n",
    "daily_data[\"temperature_2m_min\"] = daily_temperature_2m_min\n",
    "daily_data[\"temperature_2m_mean\"] = daily_temperature_2m_mean\n",
    "daily_data[\"apparent_temperature_max\"] = daily_apparent_temperature_max\n",
    "daily_data[\"apparent_temperature_min\"] = daily_apparent_temperature_min\n",
    "daily_data[\"apparent_temperature_mean\"] = daily_apparent_temperature_mean\n",
    "daily_data[\"sunrise\"] = daily_sunrise\n",
    "daily_data[\"sunset\"] = daily_sunset\n",
    "daily_data[\"daylight_duration\"] = daily_daylight_duration\n",
    "daily_data[\"sunshine_duration\"] = daily_sunshine_duration\n",
    "daily_data[\"precipitation_sum\"] = daily_precipitation_sum\n",
    "daily_data[\"rain_sum\"] = daily_rain_sum\n",
    "daily_data[\"snowfall_sum\"] = daily_snowfall_sum\n",
    "daily_data[\"precipitation_hours\"] = daily_precipitation_hours\n",
    "daily_data[\"wind_speed_10m_max\"] = daily_wind_speed_10m_max\n",
    "daily_data[\"wind_gusts_10m_max\"] = daily_wind_gusts_10m_max\n",
    "daily_data[\"wind_direction_10m_dominant\"] = daily_wind_direction_10m_dominant\n",
    "daily_data[\"shortwave_radiation_sum\"] = daily_shortwave_radiation_sum\n",
    "daily_data[\"et0_fao_evapotranspiration\"] = daily_et0_fao_evapotranspiration\n",
    "\n",
    "daily_dataframe = pd.DataFrame(data = daily_data)\n",
    "daily_dataframe.to_csv('./data/new-york-weather.csv')"
   ]
  },
  {
   "cell_type": "code",
   "execution_count": 7,
   "id": "e2dae2d8-520a-4325-a9a3-699dc03f310c",
   "metadata": {},
   "outputs": [
    {
     "data": {
      "text/plain": [
       "(16407, 22)"
      ]
     },
     "execution_count": 7,
     "metadata": {},
     "output_type": "execute_result"
    }
   ],
   "source": [
    "weather = pd.read_csv('./data/new-york-weather.csv')\n",
    "weather.shape"
   ]
  },
  {
   "cell_type": "code",
   "execution_count": 8,
   "id": "8d4ef829-f04d-4840-996b-38b4ae7e9135",
   "metadata": {},
   "outputs": [],
   "source": [
    "weather.drop(columns = 'Unnamed: 0', inplace = True)"
   ]
  },
  {
   "cell_type": "code",
   "execution_count": 9,
   "id": "be060799-4012-47cc-8b93-c24dbb15bc36",
   "metadata": {},
   "outputs": [
    {
     "data": {
      "text/plain": [
       "date                           0\n",
       "weather_code                   0\n",
       "temperature_2m_max             0\n",
       "temperature_2m_min             0\n",
       "temperature_2m_mean            0\n",
       "apparent_temperature_max       0\n",
       "apparent_temperature_min       0\n",
       "apparent_temperature_mean      0\n",
       "sunrise                        0\n",
       "sunset                         0\n",
       "daylight_duration              0\n",
       "sunshine_duration              0\n",
       "precipitation_sum              0\n",
       "rain_sum                       0\n",
       "snowfall_sum                   0\n",
       "precipitation_hours            0\n",
       "wind_speed_10m_max             0\n",
       "wind_gusts_10m_max             0\n",
       "wind_direction_10m_dominant    0\n",
       "shortwave_radiation_sum        0\n",
       "et0_fao_evapotranspiration     0\n",
       "dtype: int64"
      ]
     },
     "execution_count": 9,
     "metadata": {},
     "output_type": "execute_result"
    }
   ],
   "source": [
    "weather.isnull().sum()"
   ]
  },
  {
   "cell_type": "code",
   "execution_count": null,
   "id": "ce34eb2d-1949-43c4-8f06-9397a312b494",
   "metadata": {},
   "outputs": [],
   "source": []
  }
 ],
 "metadata": {
  "kernelspec": {
   "display_name": "Python 3 (ipykernel)",
   "language": "python",
   "name": "python3"
  },
  "language_info": {
   "codemirror_mode": {
    "name": "ipython",
    "version": 3
   },
   "file_extension": ".py",
   "mimetype": "text/x-python",
   "name": "python",
   "nbconvert_exporter": "python",
   "pygments_lexer": "ipython3",
   "version": "3.12.4"
  }
 },
 "nbformat": 4,
 "nbformat_minor": 5
}
