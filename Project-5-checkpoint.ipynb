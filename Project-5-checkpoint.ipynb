{
 "cells": [
  {
   "cell_type": "code",
   "execution_count": 1,
   "id": "666f59e5-1151-4229-ada8-90330e1b9761",
   "metadata": {},
   "outputs": [],
   "source": [
    "# Pip install if needed \n",
    "# pip install openmeteo-requests"
   ]
  },
  {
   "cell_type": "code",
   "execution_count": 2,
   "id": "80668ee9-a642-4154-b0f2-82e2a0170f25",
   "metadata": {},
   "outputs": [],
   "source": [
    "# pip install if needed\n",
    "# pip install requests-cache retry-requests numpy pandas"
   ]
  },
  {
   "cell_type": "code",
   "execution_count": 3,
   "id": "8e785e45-f240-4a61-97ea-a016c77582bc",
   "metadata": {},
   "outputs": [],
   "source": [
    "import numpy as np\n",
    "import pandas as pd\n",
    "import matplotlib.pyplot as plt\n",
    "import seaborn as sns\n",
    "from sklearn.cluster import KMeans\n",
    "from sklearn.metrics import silhouette_score\n",
    "from sklearn.preprocessing import StandardScaler\n",
    "from sklearn.pipeline import Pipeline\n",
    "from sklearn.decomposition import PCA\n",
    "\n",
    "np.random.seed(42)"
   ]
  },
  {
   "cell_type": "code",
   "execution_count": 4,
   "id": "e2dae2d8-520a-4325-a9a3-699dc03f310c",
   "metadata": {},
   "outputs": [
    {
     "name": "stderr",
     "output_type": "stream",
     "text": [
      "C:\\Users\\graha\\AppData\\Local\\Temp\\ipykernel_10756\\1420603750.py:1: DtypeWarning: Columns (1,2,3,4,5,6,7,8,9,10,11,12,13,14) have mixed types. Specify dtype option on import or set low_memory=False.\n",
      "  weather = pd.read_csv('./data/new-new-york-weather.csv')\n"
     ]
    },
    {
     "data": {
      "text/plain": [
       "(368796, 15)"
      ]
     },
     "execution_count": 4,
     "metadata": {},
     "output_type": "execute_result"
    }
   ],
   "source": [
    "weather = pd.read_csv('./data/new-new-york-weather.csv')\n",
    "weather.shape"
   ]
  },
  {
   "cell_type": "code",
   "execution_count": 5,
   "id": "7141d124-fb66-4afb-8a2b-5819070340c5",
   "metadata": {},
   "outputs": [
    {
     "data": {
      "text/html": [
       "<div>\n",
       "<style scoped>\n",
       "    .dataframe tbody tr th:only-of-type {\n",
       "        vertical-align: middle;\n",
       "    }\n",
       "\n",
       "    .dataframe tbody tr th {\n",
       "        vertical-align: top;\n",
       "    }\n",
       "\n",
       "    .dataframe thead th {\n",
       "        text-align: right;\n",
       "    }\n",
       "</style>\n",
       "<table border=\"1\" class=\"dataframe\">\n",
       "  <thead>\n",
       "    <tr style=\"text-align: right;\">\n",
       "      <th></th>\n",
       "      <th>date</th>\n",
       "      <th>temperature_2m_max</th>\n",
       "      <th>temperature_2m_min</th>\n",
       "      <th>daylight_duration</th>\n",
       "      <th>sunshine_duration</th>\n",
       "      <th>uv_index_max</th>\n",
       "      <th>uv_index_clear_sky_max</th>\n",
       "      <th>rain_sum</th>\n",
       "      <th>showers_sum</th>\n",
       "      <th>snowfall_sum</th>\n",
       "      <th>precipitation_hours</th>\n",
       "      <th>wind_speed_10m_max</th>\n",
       "      <th>wind_gusts_10m_max</th>\n",
       "      <th>latitude</th>\n",
       "      <th>longitude</th>\n",
       "    </tr>\n",
       "  </thead>\n",
       "  <tbody>\n",
       "    <tr>\n",
       "      <th>0</th>\n",
       "      <td>2024-01-01 05:00:00+00:00</td>\n",
       "      <td>1.3405</td>\n",
       "      <td>-5.4095</td>\n",
       "      <td>32828.926</td>\n",
       "      <td>28801.018</td>\n",
       "      <td>NaN</td>\n",
       "      <td>NaN</td>\n",
       "      <td>0</td>\n",
       "      <td>0</td>\n",
       "      <td>0</td>\n",
       "      <td>0</td>\n",
       "      <td>15.463246</td>\n",
       "      <td>31.68</td>\n",
       "      <td>42.6</td>\n",
       "      <td>-73.97</td>\n",
       "    </tr>\n",
       "    <tr>\n",
       "      <th>1</th>\n",
       "      <td>2024-01-02 05:00:00+00:00</td>\n",
       "      <td>4.0905</td>\n",
       "      <td>-5.6095</td>\n",
       "      <td>32877.49</td>\n",
       "      <td>26970.928</td>\n",
       "      <td>NaN</td>\n",
       "      <td>NaN</td>\n",
       "      <td>0</td>\n",
       "      <td>0</td>\n",
       "      <td>0</td>\n",
       "      <td>0</td>\n",
       "      <td>14.904173</td>\n",
       "      <td>34.56</td>\n",
       "      <td>42.6</td>\n",
       "      <td>-73.97</td>\n",
       "    </tr>\n",
       "    <tr>\n",
       "      <th>2</th>\n",
       "      <td>2024-01-03 05:00:00+00:00</td>\n",
       "      <td>3.4405</td>\n",
       "      <td>-2.7595</td>\n",
       "      <td>32930</td>\n",
       "      <td>7048.836</td>\n",
       "      <td>NaN</td>\n",
       "      <td>NaN</td>\n",
       "      <td>0</td>\n",
       "      <td>0</td>\n",
       "      <td>0</td>\n",
       "      <td>0</td>\n",
       "      <td>10.787993</td>\n",
       "      <td>25.56</td>\n",
       "      <td>42.6</td>\n",
       "      <td>-73.97</td>\n",
       "    </tr>\n",
       "    <tr>\n",
       "      <th>3</th>\n",
       "      <td>2024-01-04 05:00:00+00:00</td>\n",
       "      <td>2.5904999</td>\n",
       "      <td>-7.2595</td>\n",
       "      <td>32986.375</td>\n",
       "      <td>28849.451</td>\n",
       "      <td>NaN</td>\n",
       "      <td>NaN</td>\n",
       "      <td>0</td>\n",
       "      <td>0</td>\n",
       "      <td>0.07</td>\n",
       "      <td>1</td>\n",
       "      <td>22.725668</td>\n",
       "      <td>52.199997</td>\n",
       "      <td>42.6</td>\n",
       "      <td>-73.97</td>\n",
       "    </tr>\n",
       "    <tr>\n",
       "      <th>4</th>\n",
       "      <td>2024-01-05 05:00:00+00:00</td>\n",
       "      <td>1.1405</td>\n",
       "      <td>-7.2595</td>\n",
       "      <td>33046.516</td>\n",
       "      <td>19035.062</td>\n",
       "      <td>NaN</td>\n",
       "      <td>NaN</td>\n",
       "      <td>0</td>\n",
       "      <td>0</td>\n",
       "      <td>0</td>\n",
       "      <td>0</td>\n",
       "      <td>21.142147</td>\n",
       "      <td>47.88</td>\n",
       "      <td>42.6</td>\n",
       "      <td>-73.97</td>\n",
       "    </tr>\n",
       "  </tbody>\n",
       "</table>\n",
       "</div>"
      ],
      "text/plain": [
       "                        date temperature_2m_max temperature_2m_min  \\\n",
       "0  2024-01-01 05:00:00+00:00             1.3405            -5.4095   \n",
       "1  2024-01-02 05:00:00+00:00             4.0905            -5.6095   \n",
       "2  2024-01-03 05:00:00+00:00             3.4405            -2.7595   \n",
       "3  2024-01-04 05:00:00+00:00          2.5904999            -7.2595   \n",
       "4  2024-01-05 05:00:00+00:00             1.1405            -7.2595   \n",
       "\n",
       "  daylight_duration sunshine_duration uv_index_max uv_index_clear_sky_max  \\\n",
       "0         32828.926         28801.018          NaN                    NaN   \n",
       "1          32877.49         26970.928          NaN                    NaN   \n",
       "2             32930          7048.836          NaN                    NaN   \n",
       "3         32986.375         28849.451          NaN                    NaN   \n",
       "4         33046.516         19035.062          NaN                    NaN   \n",
       "\n",
       "  rain_sum showers_sum snowfall_sum precipitation_hours wind_speed_10m_max  \\\n",
       "0        0           0            0                   0          15.463246   \n",
       "1        0           0            0                   0          14.904173   \n",
       "2        0           0            0                   0          10.787993   \n",
       "3        0           0         0.07                   1          22.725668   \n",
       "4        0           0            0                   0          21.142147   \n",
       "\n",
       "  wind_gusts_10m_max latitude longitude  \n",
       "0              31.68     42.6    -73.97  \n",
       "1              34.56     42.6    -73.97  \n",
       "2              25.56     42.6    -73.97  \n",
       "3          52.199997     42.6    -73.97  \n",
       "4              47.88     42.6    -73.97  "
      ]
     },
     "execution_count": 5,
     "metadata": {},
     "output_type": "execute_result"
    }
   ],
   "source": [
    "weather.head()"
   ]
  },
  {
   "cell_type": "code",
   "execution_count": 6,
   "id": "76a30fc6-dea9-4ede-8ea7-39950e34e77b",
   "metadata": {},
   "outputs": [],
   "source": [
    "weather = weather.drop(columns = ['uv_index_max','uv_index_clear_sky_max'])"
   ]
  },
  {
   "cell_type": "markdown",
   "id": "1fe471fa-69e7-4b90-99b3-733b0c8308a7",
   "metadata": {},
   "source": [
    "### Drop strings in the dataframe that came from improper appending"
   ]
  },
  {
   "cell_type": "code",
   "execution_count": 7,
   "id": "a60ef2b6-f8a8-4ad2-b9a2-29b45ace8df5",
   "metadata": {
    "scrolled": true
   },
   "outputs": [
    {
     "data": {
      "text/html": [
       "<div>\n",
       "<style scoped>\n",
       "    .dataframe tbody tr th:only-of-type {\n",
       "        vertical-align: middle;\n",
       "    }\n",
       "\n",
       "    .dataframe tbody tr th {\n",
       "        vertical-align: top;\n",
       "    }\n",
       "\n",
       "    .dataframe thead th {\n",
       "        text-align: right;\n",
       "    }\n",
       "</style>\n",
       "<table border=\"1\" class=\"dataframe\">\n",
       "  <thead>\n",
       "    <tr style=\"text-align: right;\">\n",
       "      <th></th>\n",
       "      <th>date</th>\n",
       "      <th>temperature_2m_max</th>\n",
       "      <th>temperature_2m_min</th>\n",
       "      <th>daylight_duration</th>\n",
       "      <th>sunshine_duration</th>\n",
       "      <th>rain_sum</th>\n",
       "      <th>showers_sum</th>\n",
       "      <th>snowfall_sum</th>\n",
       "      <th>precipitation_hours</th>\n",
       "      <th>wind_speed_10m_max</th>\n",
       "      <th>wind_gusts_10m_max</th>\n",
       "      <th>latitude</th>\n",
       "      <th>longitude</th>\n",
       "    </tr>\n",
       "  </thead>\n",
       "  <tbody>\n",
       "    <tr>\n",
       "      <th>5084</th>\n",
       "      <td>date</td>\n",
       "      <td>temperature_2m_max</td>\n",
       "      <td>temperature_2m_min</td>\n",
       "      <td>daylight_duration</td>\n",
       "      <td>sunshine_duration</td>\n",
       "      <td>rain_sum</td>\n",
       "      <td>showers_sum</td>\n",
       "      <td>snowfall_sum</td>\n",
       "      <td>precipitation_hours</td>\n",
       "      <td>wind_speed_10m_max</td>\n",
       "      <td>wind_gusts_10m_max</td>\n",
       "      <td>latitude</td>\n",
       "      <td>longitude</td>\n",
       "    </tr>\n",
       "    <tr>\n",
       "      <th>65675</th>\n",
       "      <td>date</td>\n",
       "      <td>temperature_2m_max</td>\n",
       "      <td>temperature_2m_min</td>\n",
       "      <td>daylight_duration</td>\n",
       "      <td>sunshine_duration</td>\n",
       "      <td>rain_sum</td>\n",
       "      <td>showers_sum</td>\n",
       "      <td>snowfall_sum</td>\n",
       "      <td>precipitation_hours</td>\n",
       "      <td>wind_speed_10m_max</td>\n",
       "      <td>wind_gusts_10m_max</td>\n",
       "      <td>latitude</td>\n",
       "      <td>longitude</td>\n",
       "    </tr>\n",
       "    <tr>\n",
       "      <th>126266</th>\n",
       "      <td>date</td>\n",
       "      <td>temperature_2m_max</td>\n",
       "      <td>temperature_2m_min</td>\n",
       "      <td>daylight_duration</td>\n",
       "      <td>sunshine_duration</td>\n",
       "      <td>rain_sum</td>\n",
       "      <td>showers_sum</td>\n",
       "      <td>snowfall_sum</td>\n",
       "      <td>precipitation_hours</td>\n",
       "      <td>wind_speed_10m_max</td>\n",
       "      <td>wind_gusts_10m_max</td>\n",
       "      <td>latitude</td>\n",
       "      <td>longitude</td>\n",
       "    </tr>\n",
       "    <tr>\n",
       "      <th>187023</th>\n",
       "      <td>date</td>\n",
       "      <td>temperature_2m_max</td>\n",
       "      <td>temperature_2m_min</td>\n",
       "      <td>daylight_duration</td>\n",
       "      <td>sunshine_duration</td>\n",
       "      <td>rain_sum</td>\n",
       "      <td>showers_sum</td>\n",
       "      <td>snowfall_sum</td>\n",
       "      <td>precipitation_hours</td>\n",
       "      <td>wind_speed_10m_max</td>\n",
       "      <td>wind_gusts_10m_max</td>\n",
       "      <td>latitude</td>\n",
       "      <td>longitude</td>\n",
       "    </tr>\n",
       "    <tr>\n",
       "      <th>247614</th>\n",
       "      <td>date</td>\n",
       "      <td>temperature_2m_max</td>\n",
       "      <td>temperature_2m_min</td>\n",
       "      <td>daylight_duration</td>\n",
       "      <td>sunshine_duration</td>\n",
       "      <td>rain_sum</td>\n",
       "      <td>showers_sum</td>\n",
       "      <td>snowfall_sum</td>\n",
       "      <td>precipitation_hours</td>\n",
       "      <td>wind_speed_10m_max</td>\n",
       "      <td>wind_gusts_10m_max</td>\n",
       "      <td>latitude</td>\n",
       "      <td>longitude</td>\n",
       "    </tr>\n",
       "    <tr>\n",
       "      <th>308205</th>\n",
       "      <td>date</td>\n",
       "      <td>temperature_2m_max</td>\n",
       "      <td>temperature_2m_min</td>\n",
       "      <td>daylight_duration</td>\n",
       "      <td>sunshine_duration</td>\n",
       "      <td>rain_sum</td>\n",
       "      <td>showers_sum</td>\n",
       "      <td>snowfall_sum</td>\n",
       "      <td>precipitation_hours</td>\n",
       "      <td>wind_speed_10m_max</td>\n",
       "      <td>wind_gusts_10m_max</td>\n",
       "      <td>latitude</td>\n",
       "      <td>longitude</td>\n",
       "    </tr>\n",
       "  </tbody>\n",
       "</table>\n",
       "</div>"
      ],
      "text/plain": [
       "        date  temperature_2m_max  temperature_2m_min  daylight_duration  \\\n",
       "5084    date  temperature_2m_max  temperature_2m_min  daylight_duration   \n",
       "65675   date  temperature_2m_max  temperature_2m_min  daylight_duration   \n",
       "126266  date  temperature_2m_max  temperature_2m_min  daylight_duration   \n",
       "187023  date  temperature_2m_max  temperature_2m_min  daylight_duration   \n",
       "247614  date  temperature_2m_max  temperature_2m_min  daylight_duration   \n",
       "308205  date  temperature_2m_max  temperature_2m_min  daylight_duration   \n",
       "\n",
       "        sunshine_duration  rain_sum  showers_sum  snowfall_sum  \\\n",
       "5084    sunshine_duration  rain_sum  showers_sum  snowfall_sum   \n",
       "65675   sunshine_duration  rain_sum  showers_sum  snowfall_sum   \n",
       "126266  sunshine_duration  rain_sum  showers_sum  snowfall_sum   \n",
       "187023  sunshine_duration  rain_sum  showers_sum  snowfall_sum   \n",
       "247614  sunshine_duration  rain_sum  showers_sum  snowfall_sum   \n",
       "308205  sunshine_duration  rain_sum  showers_sum  snowfall_sum   \n",
       "\n",
       "        precipitation_hours  wind_speed_10m_max  wind_gusts_10m_max  latitude  \\\n",
       "5084    precipitation_hours  wind_speed_10m_max  wind_gusts_10m_max  latitude   \n",
       "65675   precipitation_hours  wind_speed_10m_max  wind_gusts_10m_max  latitude   \n",
       "126266  precipitation_hours  wind_speed_10m_max  wind_gusts_10m_max  latitude   \n",
       "187023  precipitation_hours  wind_speed_10m_max  wind_gusts_10m_max  latitude   \n",
       "247614  precipitation_hours  wind_speed_10m_max  wind_gusts_10m_max  latitude   \n",
       "308205  precipitation_hours  wind_speed_10m_max  wind_gusts_10m_max  latitude   \n",
       "\n",
       "        longitude  \n",
       "5084    longitude  \n",
       "65675   longitude  \n",
       "126266  longitude  \n",
       "187023  longitude  \n",
       "247614  longitude  \n",
       "308205  longitude  "
      ]
     },
     "execution_count": 7,
     "metadata": {},
     "output_type": "execute_result"
    }
   ],
   "source": [
    "weather[weather['daylight_duration'].astype(str).str.contains('day')]"
   ]
  },
  {
   "cell_type": "code",
   "execution_count": 8,
   "id": "3531f2a7-358d-49ec-8a1e-99bced1049e8",
   "metadata": {},
   "outputs": [],
   "source": [
    "weather = weather.drop(weather[weather['daylight_duration'].astype(str).str.contains('day')].index)"
   ]
  },
  {
   "cell_type": "code",
   "execution_count": 9,
   "id": "cf2dfbf4-9176-4486-8fc1-24b668b63813",
   "metadata": {},
   "outputs": [
    {
     "data": {
      "text/html": [
       "<div>\n",
       "<style scoped>\n",
       "    .dataframe tbody tr th:only-of-type {\n",
       "        vertical-align: middle;\n",
       "    }\n",
       "\n",
       "    .dataframe tbody tr th {\n",
       "        vertical-align: top;\n",
       "    }\n",
       "\n",
       "    .dataframe thead th {\n",
       "        text-align: right;\n",
       "    }\n",
       "</style>\n",
       "<table border=\"1\" class=\"dataframe\">\n",
       "  <thead>\n",
       "    <tr style=\"text-align: right;\">\n",
       "      <th></th>\n",
       "      <th>date</th>\n",
       "      <th>temperature_2m_max</th>\n",
       "      <th>temperature_2m_min</th>\n",
       "      <th>daylight_duration</th>\n",
       "      <th>sunshine_duration</th>\n",
       "      <th>rain_sum</th>\n",
       "      <th>showers_sum</th>\n",
       "      <th>snowfall_sum</th>\n",
       "      <th>precipitation_hours</th>\n",
       "      <th>wind_speed_10m_max</th>\n",
       "      <th>wind_gusts_10m_max</th>\n",
       "      <th>latitude</th>\n",
       "      <th>longitude</th>\n",
       "    </tr>\n",
       "  </thead>\n",
       "  <tbody>\n",
       "  </tbody>\n",
       "</table>\n",
       "</div>"
      ],
      "text/plain": [
       "Empty DataFrame\n",
       "Columns: [date, temperature_2m_max, temperature_2m_min, daylight_duration, sunshine_duration, rain_sum, showers_sum, snowfall_sum, precipitation_hours, wind_speed_10m_max, wind_gusts_10m_max, latitude, longitude]\n",
       "Index: []"
      ]
     },
     "execution_count": 9,
     "metadata": {},
     "output_type": "execute_result"
    }
   ],
   "source": [
    "weather[weather['daylight_duration'].astype(str).str.contains('day')]"
   ]
  },
  {
   "cell_type": "markdown",
   "id": "08d4f245-e0d1-4342-bd0a-563348b61b28",
   "metadata": {},
   "source": [
    "### Sort the dataframe by date"
   ]
  },
  {
   "cell_type": "code",
   "execution_count": 10,
   "id": "6b70d115-7386-4bc0-b770-b39ae6e4f235",
   "metadata": {},
   "outputs": [],
   "source": [
    "weather = weather.sort_values('date')"
   ]
  },
  {
   "cell_type": "markdown",
   "id": "c0aa13e2-6104-4ea0-b441-129f8b93ee75",
   "metadata": {},
   "source": [
    "### Delete the time in all the dates and remove the white space made"
   ]
  },
  {
   "cell_type": "code",
   "execution_count": 11,
   "id": "9866e707-e049-4e08-85ac-86fceb2c375a",
   "metadata": {},
   "outputs": [],
   "source": [
    "weather['date'] = weather['date'].str.replace('05:00:00+00:00', '')\n",
    "weather['date'] = weather['date'].str.strip()"
   ]
  },
  {
   "cell_type": "code",
   "execution_count": 12,
   "id": "95fb1bc0-6b9a-4610-b7f6-5c0e0b5cabcd",
   "metadata": {},
   "outputs": [
    {
     "name": "stdout",
     "output_type": "stream",
     "text": [
      "<class 'pandas.core.frame.DataFrame'>\n",
      "Index: 368790 entries, 291050 to 335\n",
      "Data columns (total 13 columns):\n",
      " #   Column               Non-Null Count   Dtype \n",
      "---  ------               --------------   ----- \n",
      " 0   date                 368790 non-null  object\n",
      " 1   temperature_2m_max   368790 non-null  object\n",
      " 2   temperature_2m_min   368790 non-null  object\n",
      " 3   daylight_duration    368790 non-null  object\n",
      " 4   sunshine_duration    368788 non-null  object\n",
      " 5   rain_sum             368790 non-null  object\n",
      " 6   showers_sum          368790 non-null  object\n",
      " 7   snowfall_sum         368790 non-null  object\n",
      " 8   precipitation_hours  368790 non-null  object\n",
      " 9   wind_speed_10m_max   368790 non-null  object\n",
      " 10  wind_gusts_10m_max   368790 non-null  object\n",
      " 11  latitude             368790 non-null  object\n",
      " 12  longitude            368790 non-null  object\n",
      "dtypes: object(13)\n",
      "memory usage: 39.4+ MB\n"
     ]
    }
   ],
   "source": [
    "weather.info()"
   ]
  },
  {
   "cell_type": "code",
   "execution_count": 13,
   "id": "d291c699-7f41-429c-98cd-ee206719ef83",
   "metadata": {},
   "outputs": [],
   "source": [
    "weather[['temperature_2m_max','temperature_2m_min',\"daylight_duration\",\"sunshine_duration\",\"rain_sum\",'showers_sum',\n",
    "         \"snowfall_sum\",\"precipitation_hours\",\"wind_speed_10m_max\",\"wind_gusts_10m_max\",\"latitude\",\"longitude\"]] = weather[['temperature_2m_max','temperature_2m_min',\"daylight_duration\",\"sunshine_duration\",\"rain_sum\",'showers_sum',\n",
    "         \"snowfall_sum\",\"precipitation_hours\",\"wind_speed_10m_max\",\"wind_gusts_10m_max\",\"latitude\",\"longitude\"]].apply(pd.to_numeric)"
   ]
  },
  {
   "cell_type": "code",
   "execution_count": 14,
   "id": "dd4bf666-d967-45de-837a-361e955b4b01",
   "metadata": {},
   "outputs": [],
   "source": [
    "weather['precipitation_total'] = weather['rain_sum'] + weather['snowfall_sum'] \n",
    "weather['location'] = list(zip(weather['latitude'],weather['longitude']))"
   ]
  },
  {
   "cell_type": "code",
   "execution_count": 15,
   "id": "d25f9941-8d9b-412c-beca-c7579fa56687",
   "metadata": {},
   "outputs": [
    {
     "data": {
      "text/plain": [
       "(368790, 15)"
      ]
     },
     "execution_count": 15,
     "metadata": {},
     "output_type": "execute_result"
    }
   ],
   "source": [
    "# Group by 'location'\n",
    "grouped = weather.groupby('location')\n",
    "\n",
    "# Drop duplicates based on 'date' for each group\n",
    "weather = pd.concat([group.drop_duplicates(subset=['date']) for _, group in grouped], ignore_index=True)\n",
    "\n",
    "# Display the first few rows of the cleaned DataFrame\n",
    "weather.shape"
   ]
  },
  {
   "cell_type": "code",
   "execution_count": 16,
   "id": "032a1b24-3119-4b5e-9db7-c083f83f745b",
   "metadata": {},
   "outputs": [
    {
     "name": "stdout",
     "output_type": "stream",
     "text": [
      "<class 'pandas.core.frame.DataFrame'>\n",
      "RangeIndex: 368790 entries, 0 to 368789\n",
      "Data columns (total 15 columns):\n",
      " #   Column               Non-Null Count   Dtype  \n",
      "---  ------               --------------   -----  \n",
      " 0   date                 368790 non-null  object \n",
      " 1   temperature_2m_max   368790 non-null  float64\n",
      " 2   temperature_2m_min   368790 non-null  float64\n",
      " 3   daylight_duration    368790 non-null  float64\n",
      " 4   sunshine_duration    368788 non-null  float64\n",
      " 5   rain_sum             368790 non-null  float64\n",
      " 6   showers_sum          368790 non-null  float64\n",
      " 7   snowfall_sum         368790 non-null  float64\n",
      " 8   precipitation_hours  368790 non-null  float64\n",
      " 9   wind_speed_10m_max   368790 non-null  float64\n",
      " 10  wind_gusts_10m_max   368790 non-null  float64\n",
      " 11  latitude             368790 non-null  float64\n",
      " 12  longitude            368790 non-null  float64\n",
      " 13  precipitation_total  368790 non-null  float64\n",
      " 14  location             368790 non-null  object \n",
      "dtypes: float64(13), object(2)\n",
      "memory usage: 42.2+ MB\n"
     ]
    }
   ],
   "source": [
    "weather.info()"
   ]
  },
  {
   "cell_type": "code",
   "execution_count": 17,
   "id": "be060799-4012-47cc-8b93-c24dbb15bc36",
   "metadata": {},
   "outputs": [
    {
     "data": {
      "text/plain": [
       "date                   0\n",
       "temperature_2m_max     0\n",
       "temperature_2m_min     0\n",
       "daylight_duration      0\n",
       "sunshine_duration      2\n",
       "rain_sum               0\n",
       "showers_sum            0\n",
       "snowfall_sum           0\n",
       "precipitation_hours    0\n",
       "wind_speed_10m_max     0\n",
       "wind_gusts_10m_max     0\n",
       "latitude               0\n",
       "longitude              0\n",
       "precipitation_total    0\n",
       "location               0\n",
       "dtype: int64"
      ]
     },
     "execution_count": 17,
     "metadata": {},
     "output_type": "execute_result"
    }
   ],
   "source": [
    "weather.isnull().sum()"
   ]
  },
  {
   "cell_type": "code",
   "execution_count": 18,
   "id": "0895156a-4f67-4dbf-ae9c-57f640e27712",
   "metadata": {},
   "outputs": [
    {
     "data": {
      "text/html": [
       "<div>\n",
       "<style scoped>\n",
       "    .dataframe tbody tr th:only-of-type {\n",
       "        vertical-align: middle;\n",
       "    }\n",
       "\n",
       "    .dataframe tbody tr th {\n",
       "        vertical-align: top;\n",
       "    }\n",
       "\n",
       "    .dataframe thead th {\n",
       "        text-align: right;\n",
       "    }\n",
       "</style>\n",
       "<table border=\"1\" class=\"dataframe\">\n",
       "  <thead>\n",
       "    <tr style=\"text-align: right;\">\n",
       "      <th></th>\n",
       "      <th>date</th>\n",
       "      <th>temperature_2m_max</th>\n",
       "      <th>temperature_2m_min</th>\n",
       "      <th>daylight_duration</th>\n",
       "      <th>sunshine_duration</th>\n",
       "      <th>rain_sum</th>\n",
       "      <th>showers_sum</th>\n",
       "      <th>snowfall_sum</th>\n",
       "      <th>precipitation_hours</th>\n",
       "      <th>wind_speed_10m_max</th>\n",
       "      <th>wind_gusts_10m_max</th>\n",
       "      <th>latitude</th>\n",
       "      <th>longitude</th>\n",
       "      <th>precipitation_total</th>\n",
       "      <th>location</th>\n",
       "    </tr>\n",
       "  </thead>\n",
       "  <tbody>\n",
       "    <tr>\n",
       "      <th>0</th>\n",
       "      <td>2005-01-01</td>\n",
       "      <td>13.779</td>\n",
       "      <td>0.779</td>\n",
       "      <td>33603.098</td>\n",
       "      <td>29108.1450</td>\n",
       "      <td>0.0</td>\n",
       "      <td>0.0</td>\n",
       "      <td>0.00</td>\n",
       "      <td>0.0</td>\n",
       "      <td>16.781560</td>\n",
       "      <td>34.920000</td>\n",
       "      <td>40.5795</td>\n",
       "      <td>-74.1502</td>\n",
       "      <td>0.00</td>\n",
       "      <td>(40.5795, -74.1502)</td>\n",
       "    </tr>\n",
       "    <tr>\n",
       "      <th>1</th>\n",
       "      <td>2005-01-02</td>\n",
       "      <td>6.779</td>\n",
       "      <td>-1.471</td>\n",
       "      <td>33650.117</td>\n",
       "      <td>18150.7850</td>\n",
       "      <td>0.0</td>\n",
       "      <td>0.0</td>\n",
       "      <td>0.00</td>\n",
       "      <td>0.0</td>\n",
       "      <td>13.910169</td>\n",
       "      <td>31.319998</td>\n",
       "      <td>40.5795</td>\n",
       "      <td>-74.1502</td>\n",
       "      <td>0.00</td>\n",
       "      <td>(40.5795, -74.1502)</td>\n",
       "    </tr>\n",
       "    <tr>\n",
       "      <th>2</th>\n",
       "      <td>2005-01-03</td>\n",
       "      <td>12.829</td>\n",
       "      <td>6.129</td>\n",
       "      <td>33700.723</td>\n",
       "      <td>4058.1921</td>\n",
       "      <td>5.5</td>\n",
       "      <td>0.0</td>\n",
       "      <td>0.00</td>\n",
       "      <td>7.0</td>\n",
       "      <td>11.525623</td>\n",
       "      <td>27.359999</td>\n",
       "      <td>40.5795</td>\n",
       "      <td>-74.1502</td>\n",
       "      <td>5.50</td>\n",
       "      <td>(40.5795, -74.1502)</td>\n",
       "    </tr>\n",
       "    <tr>\n",
       "      <th>3</th>\n",
       "      <td>2005-01-04</td>\n",
       "      <td>9.529</td>\n",
       "      <td>2.979</td>\n",
       "      <td>33754.844</td>\n",
       "      <td>6188.0500</td>\n",
       "      <td>2.6</td>\n",
       "      <td>0.0</td>\n",
       "      <td>0.00</td>\n",
       "      <td>7.0</td>\n",
       "      <td>13.320000</td>\n",
       "      <td>40.320000</td>\n",
       "      <td>40.5795</td>\n",
       "      <td>-74.1502</td>\n",
       "      <td>2.60</td>\n",
       "      <td>(40.5795, -74.1502)</td>\n",
       "    </tr>\n",
       "    <tr>\n",
       "      <th>4</th>\n",
       "      <td>2005-01-05</td>\n",
       "      <td>3.579</td>\n",
       "      <td>0.479</td>\n",
       "      <td>33812.383</td>\n",
       "      <td>0.0000</td>\n",
       "      <td>11.5</td>\n",
       "      <td>0.0</td>\n",
       "      <td>1.33</td>\n",
       "      <td>19.0</td>\n",
       "      <td>12.727922</td>\n",
       "      <td>25.919998</td>\n",
       "      <td>40.5795</td>\n",
       "      <td>-74.1502</td>\n",
       "      <td>12.83</td>\n",
       "      <td>(40.5795, -74.1502)</td>\n",
       "    </tr>\n",
       "  </tbody>\n",
       "</table>\n",
       "</div>"
      ],
      "text/plain": [
       "         date  temperature_2m_max  temperature_2m_min  daylight_duration  \\\n",
       "0  2005-01-01              13.779               0.779          33603.098   \n",
       "1  2005-01-02               6.779              -1.471          33650.117   \n",
       "2  2005-01-03              12.829               6.129          33700.723   \n",
       "3  2005-01-04               9.529               2.979          33754.844   \n",
       "4  2005-01-05               3.579               0.479          33812.383   \n",
       "\n",
       "   sunshine_duration  rain_sum  showers_sum  snowfall_sum  \\\n",
       "0         29108.1450       0.0          0.0          0.00   \n",
       "1         18150.7850       0.0          0.0          0.00   \n",
       "2          4058.1921       5.5          0.0          0.00   \n",
       "3          6188.0500       2.6          0.0          0.00   \n",
       "4             0.0000      11.5          0.0          1.33   \n",
       "\n",
       "   precipitation_hours  wind_speed_10m_max  wind_gusts_10m_max  latitude  \\\n",
       "0                  0.0           16.781560           34.920000   40.5795   \n",
       "1                  0.0           13.910169           31.319998   40.5795   \n",
       "2                  7.0           11.525623           27.359999   40.5795   \n",
       "3                  7.0           13.320000           40.320000   40.5795   \n",
       "4                 19.0           12.727922           25.919998   40.5795   \n",
       "\n",
       "   longitude  precipitation_total             location  \n",
       "0   -74.1502                 0.00  (40.5795, -74.1502)  \n",
       "1   -74.1502                 0.00  (40.5795, -74.1502)  \n",
       "2   -74.1502                 5.50  (40.5795, -74.1502)  \n",
       "3   -74.1502                 2.60  (40.5795, -74.1502)  \n",
       "4   -74.1502                12.83  (40.5795, -74.1502)  "
      ]
     },
     "execution_count": 18,
     "metadata": {},
     "output_type": "execute_result"
    }
   ],
   "source": [
    "weather.dropna(inplace = True)\n",
    "weather.head()"
   ]
  },
  {
   "cell_type": "code",
   "execution_count": 19,
   "id": "45e2bee3-018d-46fc-96d7-f6ef55376315",
   "metadata": {},
   "outputs": [
    {
     "name": "stdout",
     "output_type": "stream",
     "text": [
      "<class 'pandas.core.frame.DataFrame'>\n",
      "Index: 368788 entries, 0 to 368789\n",
      "Data columns (total 15 columns):\n",
      " #   Column               Non-Null Count   Dtype  \n",
      "---  ------               --------------   -----  \n",
      " 0   date                 368788 non-null  object \n",
      " 1   temperature_2m_max   368788 non-null  float64\n",
      " 2   temperature_2m_min   368788 non-null  float64\n",
      " 3   daylight_duration    368788 non-null  float64\n",
      " 4   sunshine_duration    368788 non-null  float64\n",
      " 5   rain_sum             368788 non-null  float64\n",
      " 6   showers_sum          368788 non-null  float64\n",
      " 7   snowfall_sum         368788 non-null  float64\n",
      " 8   precipitation_hours  368788 non-null  float64\n",
      " 9   wind_speed_10m_max   368788 non-null  float64\n",
      " 10  wind_gusts_10m_max   368788 non-null  float64\n",
      " 11  latitude             368788 non-null  float64\n",
      " 12  longitude            368788 non-null  float64\n",
      " 13  precipitation_total  368788 non-null  float64\n",
      " 14  location             368788 non-null  object \n",
      "dtypes: float64(13), object(2)\n",
      "memory usage: 45.0+ MB\n"
     ]
    }
   ],
   "source": [
    "weather.info() #this is after dropping those two nulls"
   ]
  },
  {
   "cell_type": "code",
   "execution_count": 20,
   "id": "78a35802-d3d0-46b5-b927-b4d211f99804",
   "metadata": {},
   "outputs": [
    {
     "data": {
      "text/plain": [
       "date                   0\n",
       "temperature_2m_max     0\n",
       "temperature_2m_min     0\n",
       "daylight_duration      0\n",
       "sunshine_duration      0\n",
       "rain_sum               0\n",
       "showers_sum            0\n",
       "snowfall_sum           0\n",
       "precipitation_hours    0\n",
       "wind_speed_10m_max     0\n",
       "wind_gusts_10m_max     0\n",
       "latitude               0\n",
       "longitude              0\n",
       "precipitation_total    0\n",
       "location               0\n",
       "dtype: int64"
      ]
     },
     "execution_count": 20,
     "metadata": {},
     "output_type": "execute_result"
    }
   ],
   "source": [
    "weather.isnull().sum() #nulls are removed"
   ]
  },
  {
   "cell_type": "markdown",
   "id": "f709c83d-2308-4866-ae7e-28d519d17ba0",
   "metadata": {},
   "source": [
    "Visulizations to looking at feature relationships"
   ]
  },
  {
   "cell_type": "code",
   "execution_count": 21,
   "id": "61932514-1605-4ad8-a9df-f03f8cfc1dde",
   "metadata": {},
   "outputs": [
    {
     "data": {
      "image/png": "[encoded data removed]",
      "text/plain": [
       "<Figure size 1000x600 with 1 Axes>"
      ]
     },
     "metadata": {},
     "output_type": "display_data"
    }
   ],
   "source": [
    "thresholds = [10, 15, 20]  #  thresholds\n",
    "frequencies = [(weather['wind_speed_10m_max'] > t).sum() for t in thresholds]\n",
    "\n",
    "plt.figure(figsize=(10, 6))\n",
    "plt.plot(thresholds, frequencies, marker='o')\n",
    "plt.title('Frequency of Days with Wind Speeds Above Thresholds')\n",
    "plt.xlabel('Wind Speed Threshold (m/s)')\n",
    "plt.ylabel('Frequency')\n",
    "plt.xticks(thresholds)\n",
    "plt.grid(True)\n",
    "plt.show()\n",
    "   "
   ]
  },
  {
   "cell_type": "code",
   "execution_count": null,
   "id": "09310e8d-382f-4e57-98f2-9ce66c26537d",
   "metadata": {},
   "outputs": [],
   "source": [
    "#looking at the feature relationships\n",
    "sns.pairplot(weather[['temperature_2m_max', 'temperature_2m_min', 'rain_sum', 'wind_speed_10m_max']])\n",
    "plt.show()\n",
    "   "
   ]
  },
  {
   "cell_type": "code",
   "execution_count": null,
   "id": "8f08ff50-711a-4f88-ae87-5b7cd484c517",
   "metadata": {},
   "outputs": [],
   "source": [
    "#identifying highly correlated features for possible feature engineering. bypassing the string conversion erro\n",
    "# only the numeric columns\n",
    "numeric_weather = weather.select_dtypes(include=[np.number])\n",
    "\n",
    "# Calculate the correlation matrix\n",
    "corr = numeric_weather.corr()\n",
    "\n",
    "# Create the heatmap\n",
    "plt.figure(figsize=(12, 10))  \n",
    "sns.heatmap(corr, annot=True, cmap='coolwarm', fmt=\".2f\", square=True)\n",
    "plt.title('Correlation Heatmap')\n",
    "plt.show()"
   ]
  },
  {
   "cell_type": "code",
   "execution_count": null,
   "id": "4cc6056b-88ff-41d3-b778-ee45915af39c",
   "metadata": {},
   "outputs": [],
   "source": [
    "#based on the above heat map, a few of the strongest correlations are below:\n",
    "\n",
    "#1.'precipitation_total' and 'rain_sum'= .97 correlation so those are strong features to use\n",
    "#2 'precipitation_hours' and 'rain_sum'=.65\n",
    "#3 'rain_sum'= 1\n",
    "#4 'sunshine_duration'=1\n",
    "#5 'temperature_2m_max'=1\n",
    "#6 'temperature_2m_min'=1\n",
    "#7 'daylight_duration'=1\n",
    "#'latiude' and 'frequency_above_20'=.96\n",
    "\n",
    "# Calculate the correlation between 'precipitation_total' and 'rain_sum'\n"
   ]
  },
  {
   "cell_type": "code",
   "execution_count": null,
   "id": "d9c550dd-c84f-4f2f-9991-58839241721a",
   "metadata": {},
   "outputs": [],
   "source": [
    "# only the numeric columns\n",
    "numeric_weather = weather.select_dtypes(include=[np.number])\n",
    "\n",
    "# Calculate the correlation matrix\n",
    "corr = numeric_weather.corr()\n",
    "\n",
    "print(corr)"
   ]
  },
  {
   "cell_type": "markdown",
   "id": "a9e2efe2-c2db-4551-af03-2cbd8d6b89b0",
   "metadata": {},
   "source": [
    "###Correlations Greater Than 0.5 or Less Than -0.5\n",
    "Here are the correlations from above that exceed 0.5 or are below -0.5 and these indicates a strong positive or negative linear relationship. these are good to use for feature selection to improve clustering model\n",
    "\n",
    "- temperature_2m_max and temperature_2m_min: 0.9436\n",
    "\n",
    "- temperature_2m_max and daylight_duration: 0.7620\n",
    "\n",
    "- temperature_2m_min and daylight_duration: 0.7173\n",
    "\n",
    "- precipitation_total and rain_sum: 0.9696\n",
    "\n",
    "- precipitation_hours and rain_sum: 0.6514\n",
    "\n",
    "- wind_speed_above_20 and wind_speed_10m_max: 0.7886\n",
    "\n",
    "- wind_speed_above_20 and wind_gusts_10m_max: 0.7064\n",
    "\n",
    "- latitude and frequency_above_20: 0.9567"
   ]
  },
  {
   "cell_type": "markdown",
   "id": "0e81f6a0-503d-4d7f-8a4f-131214930d81",
   "metadata": {},
   "source": [
    "Feature Engineering"
   ]
  },
  {
   "cell_type": "code",
   "execution_count": null,
   "id": "2f5eba60-6771-4945-99c1-2465b6208e23",
   "metadata": {},
   "outputs": [],
   "source": [
    "#thresholds\n",
    "thresholds = [10, 15, 20] \n",
    "\n",
    "#store frequencies\n",
    "wind_speed_frequencies = {}\n",
    "\n",
    "# Calculate the frequency for each threshold\n",
    "for threshold in thresholds:\n",
    "    count_above_threshold = (weather['wind_speed_10m_max'] > threshold).sum()\n",
    "    wind_speed_frequencies[f'wind_speed_above_{threshold}'] = count_above_threshold\n",
    "\n",
    "# Converted to a df\n",
    "wind_speed_frequency_df = pd.DataFrame.from_dict(wind_speed_frequencies, orient='index', columns=['Frequency'])\n",
    "\n",
    "print(wind_speed_frequency_df)"
   ]
  },
  {
   "cell_type": "code",
   "execution_count": null,
   "id": "db2655a4-6e5d-46f8-9c1b-ca1f2dbcd1e2",
   "metadata": {},
   "outputs": [],
   "source": [
    "# Calculate a boolean column indicating if the wind speed exceeds the threshold\n",
    "weather[f'wind_speed_above_{threshold}'] = weather['wind_speed_10m_max'] > threshold\n",
    "\n",
    "# Convert boolean to integer (1 for True, 0 for False)\n",
    "weather[f'wind_speed_above_{threshold}'] = weather[f'wind_speed_above_{threshold}'].astype(int)\n",
    "\n",
    "# Added a frequency column by summing the boolean column\n",
    "weather[f'frequency_above_{threshold}'] = weather[f'wind_speed_above_{threshold}'].cumsum()\n",
    "\n",
    "print(weather.head())"
   ]
  },
  {
   "cell_type": "code",
   "execution_count": null,
   "id": "e5931a78-612e-4aa7-809c-4a74eefbf67f",
   "metadata": {},
   "outputs": [],
   "source": [
    "# adding a temperature range feature using two of the features that had good correlations\n",
    "weather['temperature_range'] = weather['temperature_2m_max'] - weather['temperature_2m_min']"
   ]
  },
  {
   "cell_type": "code",
   "execution_count": null,
   "id": "845c8d2f-45e7-4ac2-9e61-9fea1c26c3a1",
   "metadata": {},
   "outputs": [],
   "source": [
    "# average temperature\n",
    "weather['average_temperature'] = (weather['temperature_2m_max'] + weather['temperature_2m_min']) / 2"
   ]
  },
  {
   "cell_type": "code",
   "execution_count": null,
   "id": "d53712d2-a40f-405e-9d08-86aa31b86ac5",
   "metadata": {},
   "outputs": [],
   "source": [
    "#temperature vs daylight\n",
    "weather['temp_daylight_interaction'] = weather['average_temperature'] * weather['daylight_duration']"
   ]
  },
  {
   "cell_type": "code",
   "execution_count": null,
   "id": "1f7c0b10-66b2-493d-8cb9-5ca7e2e6ff59",
   "metadata": {},
   "outputs": [],
   "source": [
    "#wind speed index to rep  overall wind speed conditions\n",
    "weather['wind_speed_index'] = weather['wind_speed_above_20'] * weather['wind_speed_10m_max']"
   ]
  },
  {
   "cell_type": "code",
   "execution_count": null,
   "id": "225fb97a-8612-4e27-aa6b-8ae22f26b256",
   "metadata": {},
   "outputs": [],
   "source": [
    "#categorical wind features\n",
    "# commenting out as i am running into issues with the string so i can't rerun the cluster\n",
    "#weather['wind_speed_category'] = pd.cut(weather['wind_speed_10m_max'], bins=[0, 5, 10, 15, 20, 25], labels=['Very Low', 'Low', 'Medium', 'High', 'Very High'])"
   ]
  },
  {
   "cell_type": "code",
   "execution_count": null,
   "id": "93994fa5-96c8-41c2-982b-94ad26644776",
   "metadata": {},
   "outputs": [],
   "source": [
    "# Count occurrences of each category\n",
    "#category_counts = weather['wind_speed_category'].value_counts()\n",
    "\n",
    "# Plotting\n",
    "#plt.figure(figsize=(10, 6))\n",
    "#category_counts.plot(kind='bar', color='skyblue')\n",
    "#plt.title('Wind Speed Categories')\n",
    "#plt.xlabel('Wind Speed Category')\n",
    "#plt.ylabel('Count')\n",
    "#plt.xticks(rotation=45)\n",
    "#plt.grid(axis='y')\n",
    "\n",
    "# Show the plot\n",
    "#plt.tight_layout()\n",
    "#plt.show() #commented the below out just to see if we need this"
   ]
  },
  {
   "cell_type": "code",
   "execution_count": null,
   "id": "8e7b21a6-8782-45f0-ad30-b2a149329d9c",
   "metadata": {},
   "outputs": [],
   "source": [
    "#analyzing wind speed data and categorizing it into the above bins can help answer our problem statement\n",
    "#by providing actionable insights for the State of New York to effectively plan and implement renewable energy infrastructure. \n",
    "#This data-driven approach aligns with the state's ambition to reduce greenhouse gas emissions \n",
    "#and can facilitate a smoother transition from carbon-based energy systems to renewable sources."
   ]
  },
  {
   "cell_type": "markdown",
   "id": "d6d442d6-a95b-441f-b9d9-5da2ed52a73c",
   "metadata": {},
   "source": [
    "Make a clustering model with everything "
   ]
  },
  {
   "cell_type": "code",
   "execution_count": null,
   "id": "006fb075-5fce-4a6c-b759-50b28b87541d",
   "metadata": {},
   "outputs": [],
   "source": [
    "weather_km = weather.copy()\n",
    "weather_km['date'] = pd.to_datetime(weather_km['date'])\n",
    "df_2020 = weather_km[weather_km['date'].dt.year == 2020]\n",
    "X = df_2020.drop(columns = ['date','location','rain_sum','snowfall_sum'])\n",
    "\n",
    "pipe_km = Pipeline([\n",
    "    ('sc', StandardScaler()),\n",
    "    ('pca',PCA(n_components=2)),\n",
    "    ('km', KMeans(n_clusters=2))\n",
    "])\n",
    "\n",
    "pipe_km.fit(X)\n",
    "\n",
    "\n",
    "cluster_centers = pipe_km.named_steps['km'].cluster_centers_\n",
    "centroids_pca = pipe_km.named_steps['pca'].inverse_transform(cluster_centers)\n",
    "centroids = pipe_km.named_steps['sc'].inverse_transform(centroids_pca)\n",
    "\n",
    "\n",
    "centroids_df = pd.DataFrame(\n",
    "    centroids,\n",
    "    columns=X.columns\n",
    ")"
   ]
  },
  {
   "cell_type": "code",
   "execution_count": null,
   "id": "7a7f525c-731b-4644-8d2a-b46b13bf58ef",
   "metadata": {},
   "outputs": [],
   "source": [
    "# This showed that 5 components explaied about 91% of the variance for PCA so that was changed in the pipeline\n",
    "var_exp = pipe_km['pca'].explained_variance_ratio_\n",
    "np.round(var_exp[:8],3)"
   ]
  },
  {
   "cell_type": "code",
   "execution_count": null,
   "id": "7c515d53-d78b-4a6b-97b4-2bda740bb989",
   "metadata": {},
   "outputs": [],
   "source": [
    "# commenting out since it takes about 5 min to run \n",
    "X_scaled_pca = pipe_km.named_steps['pca'].transform(X)\n",
    "cluster_labels = pipe_km.named_steps['km'].labels_\n",
    "silhouette_score(X_scaled_pca, cluster_labels)\n",
    "\n",
    "# got a score of 0.29 since it goes from -1 to 1 this is a pretty bad score when using PCA n_components 5 and KMeans(n_clusters = 3)"
   ]
  },
  {
   "cell_type": "markdown",
   "id": "e8f27d19-c4a9-4580-bb07-d14a9b4c7bf2",
   "metadata": {},
   "source": [
    "##scores:\n",
    "- first original score, no tuning was .29\n",
    "- grahams was .44 after updating the n_clusters to 2\n",
    "1. added a wind speed frequency column and it was .407\n",
    "2. added a temperature range colum and it was .446\n",
    "3. added some more aggregation columns looking at other aggregate interactions moved the score to .559\n",
    "4. adjust the pca components to 3 and then 2 and each time the score got slightly better so now at .575"
   ]
  },
  {
   "cell_type": "code",
   "execution_count": null,
   "id": "04c234c2-813b-4ec1-8b03-3b0f7bb4ab78",
   "metadata": {},
   "outputs": [],
   "source": [
    "# Plotting\n",
    "plt.figure(figsize=(10, 6))\n",
    "plt.scatter(X_scaled_pca[:, 0], X_scaled_pca[:, 1], c=cluster_labels, cmap='viridis', alpha=0.6)\n",
    "plt.title('Clusters based on 2020 New York Weather Data')\n",
    "plt.xlabel('PCA Component 1')\n",
    "plt.ylabel('PCA Component 2')\n",
    "plt.colorbar(label='Cluster')\n",
    "plt.show();\n",
    "plt.savefig(\"./images\")"
   ]
  },
  {
   "cell_type": "code",
   "execution_count": null,
   "id": "7ba04604-4b3b-401e-9e1c-1a50652cb78a",
   "metadata": {},
   "outputs": [],
   "source": [
    "# Define figure size\n",
    "plt.figure(figsize=(10, 8))\n",
    "\n",
    "# Map colors for different clusters\n",
    "colors = [\"red\", \"green\", \"blue\"]\n",
    "weather_km['color'] = weather_km['cluster'].map(lambda p: colors[p])\n",
    "\n",
    "# Plot points (spatial data)\n",
    "plt.scatter(\n",
    "    weather_km['longitude'], weather_km['latitude'], \n",
    "    c=weather_km['color'], \n",
    "    label='Data Points'\n",
    ")\n",
    "\n",
    "# Plot centroids\n",
    "plt.scatter(\n",
    "    centroids_df['longitude'], centroids_df['latitude'], \n",
    "    marker=\"*\", \n",
    "    c=colors, \n",
    "    s=550, \n",
    "    edgecolor=\"k\", \n",
    "    label='Centroids'\n",
    ")\n",
    "\n",
    "# Add labels and legend\n",
    "plt.xlabel(\"Longitude\")\n",
    "plt.ylabel(\"Latitude\")\n",
    "plt.title(\"Clusters and Centroids\")\n",
    "plt.legend()\n",
    "plt.show()\n",
    "\n",
    "\n",
    "\n"
   ]
  },
  {
   "cell_type": "code",
   "execution_count": null,
   "id": "09c7059c-4ae7-4014-91c0-9bd255cc5d84",
   "metadata": {},
   "outputs": [],
   "source": []
  }
 ],
 "metadata": {
  "kernelspec": {
   "display_name": "Python 3 (ipykernel)",
   "language": "python",
   "name": "python3"
  },
  "language_info": {
   "codemirror_mode": {
    "name": "ipython",
    "version": 3
   },
   "file_extension": ".py",
   "mimetype": "text/x-python",
   "name": "python",
   "nbconvert_exporter": "python",
   "pygments_lexer": "ipython3",
   "version": "3.12.4"
  }
 },
 "nbformat": 4,
 "nbformat_minor": 5
}
