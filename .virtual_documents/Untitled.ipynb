import requests
import pandas as pd
from datetime import datetime, timedelta

# Define the base URL for the API or dataset
BASE_URL = "https://api.nyiso.com/load_data"  # Replace this with the actual endpoint

# Function to fetch data from the API
def fetch_hourly_data(start_date, end_date):
    """
    Fetch hourly data from the API within the given date range.
    :param start_date: Start date (YYYY-MM-DD)
    :param end_date: End date (YYYY-MM-DD)
    :return: DataFrame with hourly data
    """
    data = []
    current_date = datetime.strptime(start_date, "%Y-%m-%d")
    end_date = datetime.strptime(end_date, "%Y-%m-%d")
    
    while current_date <= end_date:
        try:
            # Format the date for the API request
            date_str = current_date.strftime("%Y-%m-%d")
            print(f"Fetching data for {date_str}...")
            
            # Build the URL dynamically based on the date
            url = f"{BASE_URL}?date={date_str}"  # Adjust based on the API's query parameter structure
            
            # Make the API request
            response = requests.get(url)
            response.raise_for_status()
            daily_data = response.json()  # Assuming JSON response
            
            # Process the data (adjust based on API response structure)
            for record in daily_data["hourly_load"]:  # Update this based on actual keys in the API response
                data.append({
                    "County": record["county"],  # Adjust key names
                    "Date": record["date"],  # Adjust key names
                    "Hour": record["hour"],  # Adjust key names
                    "Consumption (MWh)": record["load"]  # Adjust key names
                })
                
        except Exception as e:
            print(f"Error fetching data for {date_str}: {e}")
        
        # Move to the next day
        current_date += timedelta(days=1)
    
    # Convert to DataFrame
    return pd.DataFrame(data)

# Fetch and save data
start_date = "2005-02-01"
end_date = "2024-12-10"
data = fetch_hourly_data(start_date, end_date)


import requests
from requests.adapters import HTTPAdapter
from urllib3.util.ssl_ import create_urllib3_context

class TLSAdapter(HTTPAdapter):
    def __init__(self, tls_version=None, *args, **kwargs):
        self.tls_version = tls_version
        self.context = create_urllib3_context()
        if tls_version:
            self.context.minimum_version = tls_version
        super().__init__(*args, **kwargs)

# Create a session with a specific TLS version (e.g., TLS 1.2)
session = requests.Session()
adapter = TLSAdapter()
session.mount("https://", adapter)

# Example modified fetch
def fetch_hourly_data(start_date, end_date):
    data = []
    current_date = datetime.strptime(start_date, "%Y-%m-%d")
    end_date = datetime.strptime(end_date, "%Y-%m-%d")
    
    while current_date <= end_date:
        try:
            date_str = current_date.strftime("%Y-%m-%d")
            print(f"Fetching data for {date_str}...")
            url = f"{BASE_URL}?date={date_str}"
            response = session.get(url)
            response.raise_for_status()
            daily_data = response.json()
            
            # Process data
            for record in daily_data.get("hourly_load", []):
                data.append({
                    "County": record.get("county"),
                    "Date": record.get("date"),
                    "Hour": record.get("hour"),
                    "Consumption (MWh)": record.get("load")
                })
        except Exception as e:
            print(f"Error fetching data for {date_str}: {e}")
        
        current_date += timedelta(days=1)
    
    return pd.DataFrame(data)

# Fetch data
data = fetch_hourly_data("2005-02-01", "2024-12-10")


from requests.adapters import Retry

retry_strategy = Retry(
    total=5,
    backoff_factor=1,
    status_forcelist=[429, 500, 502, 503, 504]
)
adapter = HTTPAdapter(max_retries=retry_strategy)
session.mount("https://", adapter)



