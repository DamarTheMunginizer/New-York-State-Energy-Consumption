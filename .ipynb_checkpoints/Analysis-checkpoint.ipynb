{
 "cells": [
  {
   "cell_type": "markdown",
   "id": "ab54e3a7-2af0-4338-804a-62ec23facc9d",
   "metadata": {},
   "source": [
    "<img src=\"http://imgur.com/1ZcRyrc.png\" style=\"float: left; margin: 20px; height: 120px\">\n",
    "\n",
    "# Project 5 (Add new title here)\n",
    "\n",
    "*Team: Muhammad Haseeb Anjum, Graham Haun, Melissa Marshall, Deval Mehta, Damar Shipp*"
   ]
  },
  {
   "cell_type": "markdown",
   "id": "cdf5060f-2ddd-4b56-bf78-f04e94362e90",
   "metadata": {},
   "source": [
    "### Overview\n"
   ]
  },
  {
   "cell_type": "markdown",
   "id": "52a59671-be54-4527-bc63-1fc7945691ae",
   "metadata": {},
   "source": [
    "### Imports"
   ]
  },
  {
   "cell_type": "code",
   "execution_count": null,
   "id": "41a6e43b-f53b-472c-915a-8e8115f6184e",
   "metadata": {},
   "outputs": [],
   "source": []
  },
  {
   "cell_type": "markdown",
   "id": "249be285-381c-434e-899a-108eda3e85c0",
   "metadata": {},
   "source": [
    "### Load the Data in"
   ]
  },
  {
   "cell_type": "code",
   "execution_count": null,
   "id": "6b6a676c-374c-45dd-98b8-4de52d002b1b",
   "metadata": {},
   "outputs": [],
   "source": []
  },
  {
   "cell_type": "markdown",
   "id": "bd62e4f7-9dd7-4976-bcf5-cdb4c77069f5",
   "metadata": {},
   "source": [
    "### Inspect and Handle the Data"
   ]
  },
  {
   "cell_type": "code",
   "execution_count": null,
   "id": "9285bb1c-b779-4fdf-90ff-a8f55b41f372",
   "metadata": {},
   "outputs": [],
   "source": []
  },
  {
   "cell_type": "markdown",
   "id": "53d1b1e5-44a3-45dc-bf12-b593fb6c2ce1",
   "metadata": {},
   "source": [
    "### Data Exploration"
   ]
  },
  {
   "cell_type": "code",
   "execution_count": null,
   "id": "14ad6756-4a6e-4faa-ad5b-7ade0e36e004",
   "metadata": {},
   "outputs": [],
   "source": []
  },
  {
   "cell_type": "markdown",
   "id": "3c401dee-48d1-4e72-bf95-40d5bc305cda",
   "metadata": {},
   "source": [
    "### Transform the Data\n"
   ]
  },
  {
   "cell_type": "code",
   "execution_count": null,
   "id": "01cc40de-28e6-43bd-a81c-7598c9fff1c2",
   "metadata": {},
   "outputs": [],
   "source": []
  },
  {
   "cell_type": "markdown",
   "id": "8198b589-ee8c-42fe-a9eb-a5631d115a8a",
   "metadata": {},
   "source": [
    "### Baseline Model: $k$-Means Clustering"
   ]
  },
  {
   "cell_type": "code",
   "execution_count": null,
   "id": "d227eda3-317f-44db-b148-662253ddf654",
   "metadata": {},
   "outputs": [],
   "source": []
  },
  {
   "cell_type": "markdown",
   "id": "215a11c5-e91f-4e21-b809-1824a51a2796",
   "metadata": {},
   "source": [
    "### Additional Clustering Model"
   ]
  },
  {
   "cell_type": "code",
   "execution_count": null,
   "id": "a94674c3-5053-4d07-adfa-dde54305597b",
   "metadata": {},
   "outputs": [],
   "source": []
  },
  {
   "cell_type": "markdown",
   "id": "aa0ccb82-8a56-4a1b-a64f-a921dbf3ce07",
   "metadata": {},
   "source": [
    "### Neural Network Model"
   ]
  },
  {
   "cell_type": "code",
   "execution_count": null,
   "id": "a556b4cf-962c-449c-9e4b-61c156a9d3a9",
   "metadata": {},
   "outputs": [],
   "source": []
  },
  {
   "cell_type": "markdown",
   "id": "621a7c32-9f74-4fc2-9dec-110f1ae7d839",
   "metadata": {},
   "source": [
    "### Predictions: Time-Series Analysis"
   ]
  },
  {
   "cell_type": "code",
   "execution_count": null,
   "id": "6ea5d8d0-9474-44ae-9fe6-76630421f22e",
   "metadata": {},
   "outputs": [],
   "source": []
  },
  {
   "cell_type": "markdown",
   "id": "bf0715c3-c7e6-4a58-aa36-5cdbfc70952a",
   "metadata": {},
   "source": [
    "### Findings and Implications\n",
    "\n",
    "### Next Steps\n"
   ]
  }
 ],
 "metadata": {
  "kernelspec": {
   "display_name": "Python 3 (ipykernel)",
   "language": "python",
   "name": "python3"
  },
  "language_info": {
   "codemirror_mode": {
    "name": "ipython",
    "version": 3
   },
   "file_extension": ".py",
   "mimetype": "text/x-python",
   "name": "python",
   "nbconvert_exporter": "python",
   "pygments_lexer": "ipython3",
   "version": "3.11.1"
  }
 },
 "nbformat": 4,
 "nbformat_minor": 5
}
