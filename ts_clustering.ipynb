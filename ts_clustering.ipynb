{
 "cells": [
  {
   "cell_type": "markdown",
   "id": "2c85adf4-1f11-4813-80fd-6200ff5cda0b",
   "metadata": {},
   "source": [
    "Imports"
   ]
  },
  {
   "cell_type": "code",
   "execution_count": 29,
   "id": "5f92eb8b-0dc4-494b-8f45-a9aefaf2d90f",
   "metadata": {},
   "outputs": [],
   "source": [
    "import numpy as np\n",
    "import pandas as pd\n",
    "import matplotlib.pyplot as plt\n",
    "import seaborn as sns\n",
    "from sklearn.cluster import KMeans\n",
    "from sklearn.metrics import silhouette_score\n",
    "from sklearn.preprocessing import StandardScaler\n",
    "from sklearn.pipeline import Pipeline\n",
    "from sklearn.decomposition import PCA\n",
    "from statsmodels.tsa.arima.model import ARIMA\n",
    "from statsmodels.tsa.seasonal import STL\n",
    "from tslearn.clustering import TimeSeriesKMeans\n",
    "from tslearn.utils import to_time_series_dataset\n",
    "\n",
    "np.random.seed(42)"
   ]
  },
  {
   "cell_type": "markdown",
   "id": "a9a00133-2790-4c54-8601-0503c817578f",
   "metadata": {},
   "source": [
    "Load in the data"
   ]
  },
  {
   "cell_type": "code",
   "execution_count": 2,
   "id": "4d4694c9-fe34-41f4-bacd-91142f6cb695",
   "metadata": {},
   "outputs": [
    {
     "name": "stderr",
     "output_type": "stream",
     "text": [
      "C:\\Users\\deval\\AppData\\Local\\Temp\\ipykernel_4476\\1420603750.py:1: DtypeWarning: Columns (1,2,3,4,5,6,7,8,9,10,11,12,13,14) have mixed types. Specify dtype option on import or set low_memory=False.\n",
      "  weather = pd.read_csv('./data/new-new-york-weather.csv')\n"
     ]
    },
    {
     "data": {
      "text/plain": [
       "(368796, 15)"
      ]
     },
     "execution_count": 2,
     "metadata": {},
     "output_type": "execute_result"
    }
   ],
   "source": [
    "weather = pd.read_csv('./data/new-new-york-weather.csv')\n",
    "weather.shape"
   ]
  },
  {
   "cell_type": "code",
   "execution_count": 3,
   "id": "143fea4c-d649-42cf-9ee1-6d9422b74bd3",
   "metadata": {},
   "outputs": [
    {
     "data": {
      "text/plain": [
       "date                      object\n",
       "temperature_2m_max        object\n",
       "temperature_2m_min        object\n",
       "daylight_duration         object\n",
       "sunshine_duration         object\n",
       "uv_index_max              object\n",
       "uv_index_clear_sky_max    object\n",
       "rain_sum                  object\n",
       "showers_sum               object\n",
       "snowfall_sum              object\n",
       "precipitation_hours       object\n",
       "wind_speed_10m_max        object\n",
       "wind_gusts_10m_max        object\n",
       "latitude                  object\n",
       "longitude                 object\n",
       "dtype: object"
      ]
     },
     "execution_count": 3,
     "metadata": {},
     "output_type": "execute_result"
    }
   ],
   "source": [
    "weather.dtypes"
   ]
  },
  {
   "cell_type": "code",
   "execution_count": 4,
   "id": "9a72dc89-5e6d-4e6a-b934-a997b2bf8ea0",
   "metadata": {},
   "outputs": [],
   "source": [
    "weather = weather.drop(columns = ['uv_index_max','uv_index_clear_sky_max'])"
   ]
  },
  {
   "cell_type": "markdown",
   "id": "67f5e428-9f70-4999-9247-9ebec5d0d723",
   "metadata": {},
   "source": [
    "Drop strings in the dataframe that came from improper appending"
   ]
  },
  {
   "cell_type": "code",
   "execution_count": 5,
   "id": "98193b95-511d-4916-b83f-14e3d877cf2c",
   "metadata": {
    "scrolled": true
   },
   "outputs": [
    {
     "data": {
      "text/html": [
       "<div>\n",
       "<style scoped>\n",
       "    .dataframe tbody tr th:only-of-type {\n",
       "        vertical-align: middle;\n",
       "    }\n",
       "\n",
       "    .dataframe tbody tr th {\n",
       "        vertical-align: top;\n",
       "    }\n",
       "\n",
       "    .dataframe thead th {\n",
       "        text-align: right;\n",
       "    }\n",
       "</style>\n",
       "<table border=\"1\" class=\"dataframe\">\n",
       "  <thead>\n",
       "    <tr style=\"text-align: right;\">\n",
       "      <th></th>\n",
       "      <th>date</th>\n",
       "      <th>temperature_2m_max</th>\n",
       "      <th>temperature_2m_min</th>\n",
       "      <th>daylight_duration</th>\n",
       "      <th>sunshine_duration</th>\n",
       "      <th>rain_sum</th>\n",
       "      <th>showers_sum</th>\n",
       "      <th>snowfall_sum</th>\n",
       "      <th>precipitation_hours</th>\n",
       "      <th>wind_speed_10m_max</th>\n",
       "      <th>wind_gusts_10m_max</th>\n",
       "      <th>latitude</th>\n",
       "      <th>longitude</th>\n",
       "    </tr>\n",
       "  </thead>\n",
       "  <tbody>\n",
       "    <tr>\n",
       "      <th>5084</th>\n",
       "      <td>date</td>\n",
       "      <td>temperature_2m_max</td>\n",
       "      <td>temperature_2m_min</td>\n",
       "      <td>daylight_duration</td>\n",
       "      <td>sunshine_duration</td>\n",
       "      <td>rain_sum</td>\n",
       "      <td>showers_sum</td>\n",
       "      <td>snowfall_sum</td>\n",
       "      <td>precipitation_hours</td>\n",
       "      <td>wind_speed_10m_max</td>\n",
       "      <td>wind_gusts_10m_max</td>\n",
       "      <td>latitude</td>\n",
       "      <td>longitude</td>\n",
       "    </tr>\n",
       "    <tr>\n",
       "      <th>65675</th>\n",
       "      <td>date</td>\n",
       "      <td>temperature_2m_max</td>\n",
       "      <td>temperature_2m_min</td>\n",
       "      <td>daylight_duration</td>\n",
       "      <td>sunshine_duration</td>\n",
       "      <td>rain_sum</td>\n",
       "      <td>showers_sum</td>\n",
       "      <td>snowfall_sum</td>\n",
       "      <td>precipitation_hours</td>\n",
       "      <td>wind_speed_10m_max</td>\n",
       "      <td>wind_gusts_10m_max</td>\n",
       "      <td>latitude</td>\n",
       "      <td>longitude</td>\n",
       "    </tr>\n",
       "    <tr>\n",
       "      <th>126266</th>\n",
       "      <td>date</td>\n",
       "      <td>temperature_2m_max</td>\n",
       "      <td>temperature_2m_min</td>\n",
       "      <td>daylight_duration</td>\n",
       "      <td>sunshine_duration</td>\n",
       "      <td>rain_sum</td>\n",
       "      <td>showers_sum</td>\n",
       "      <td>snowfall_sum</td>\n",
       "      <td>precipitation_hours</td>\n",
       "      <td>wind_speed_10m_max</td>\n",
       "      <td>wind_gusts_10m_max</td>\n",
       "      <td>latitude</td>\n",
       "      <td>longitude</td>\n",
       "    </tr>\n",
       "    <tr>\n",
       "      <th>187023</th>\n",
       "      <td>date</td>\n",
       "      <td>temperature_2m_max</td>\n",
       "      <td>temperature_2m_min</td>\n",
       "      <td>daylight_duration</td>\n",
       "      <td>sunshine_duration</td>\n",
       "      <td>rain_sum</td>\n",
       "      <td>showers_sum</td>\n",
       "      <td>snowfall_sum</td>\n",
       "      <td>precipitation_hours</td>\n",
       "      <td>wind_speed_10m_max</td>\n",
       "      <td>wind_gusts_10m_max</td>\n",
       "      <td>latitude</td>\n",
       "      <td>longitude</td>\n",
       "    </tr>\n",
       "    <tr>\n",
       "      <th>247614</th>\n",
       "      <td>date</td>\n",
       "      <td>temperature_2m_max</td>\n",
       "      <td>temperature_2m_min</td>\n",
       "      <td>daylight_duration</td>\n",
       "      <td>sunshine_duration</td>\n",
       "      <td>rain_sum</td>\n",
       "      <td>showers_sum</td>\n",
       "      <td>snowfall_sum</td>\n",
       "      <td>precipitation_hours</td>\n",
       "      <td>wind_speed_10m_max</td>\n",
       "      <td>wind_gusts_10m_max</td>\n",
       "      <td>latitude</td>\n",
       "      <td>longitude</td>\n",
       "    </tr>\n",
       "    <tr>\n",
       "      <th>308205</th>\n",
       "      <td>date</td>\n",
       "      <td>temperature_2m_max</td>\n",
       "      <td>temperature_2m_min</td>\n",
       "      <td>daylight_duration</td>\n",
       "      <td>sunshine_duration</td>\n",
       "      <td>rain_sum</td>\n",
       "      <td>showers_sum</td>\n",
       "      <td>snowfall_sum</td>\n",
       "      <td>precipitation_hours</td>\n",
       "      <td>wind_speed_10m_max</td>\n",
       "      <td>wind_gusts_10m_max</td>\n",
       "      <td>latitude</td>\n",
       "      <td>longitude</td>\n",
       "    </tr>\n",
       "  </tbody>\n",
       "</table>\n",
       "</div>"
      ],
      "text/plain": [
       "        date  temperature_2m_max  temperature_2m_min  daylight_duration  \\\n",
       "5084    date  temperature_2m_max  temperature_2m_min  daylight_duration   \n",
       "65675   date  temperature_2m_max  temperature_2m_min  daylight_duration   \n",
       "126266  date  temperature_2m_max  temperature_2m_min  daylight_duration   \n",
       "187023  date  temperature_2m_max  temperature_2m_min  daylight_duration   \n",
       "247614  date  temperature_2m_max  temperature_2m_min  daylight_duration   \n",
       "308205  date  temperature_2m_max  temperature_2m_min  daylight_duration   \n",
       "\n",
       "        sunshine_duration  rain_sum  showers_sum  snowfall_sum  \\\n",
       "5084    sunshine_duration  rain_sum  showers_sum  snowfall_sum   \n",
       "65675   sunshine_duration  rain_sum  showers_sum  snowfall_sum   \n",
       "126266  sunshine_duration  rain_sum  showers_sum  snowfall_sum   \n",
       "187023  sunshine_duration  rain_sum  showers_sum  snowfall_sum   \n",
       "247614  sunshine_duration  rain_sum  showers_sum  snowfall_sum   \n",
       "308205  sunshine_duration  rain_sum  showers_sum  snowfall_sum   \n",
       "\n",
       "        precipitation_hours  wind_speed_10m_max  wind_gusts_10m_max  latitude  \\\n",
       "5084    precipitation_hours  wind_speed_10m_max  wind_gusts_10m_max  latitude   \n",
       "65675   precipitation_hours  wind_speed_10m_max  wind_gusts_10m_max  latitude   \n",
       "126266  precipitation_hours  wind_speed_10m_max  wind_gusts_10m_max  latitude   \n",
       "187023  precipitation_hours  wind_speed_10m_max  wind_gusts_10m_max  latitude   \n",
       "247614  precipitation_hours  wind_speed_10m_max  wind_gusts_10m_max  latitude   \n",
       "308205  precipitation_hours  wind_speed_10m_max  wind_gusts_10m_max  latitude   \n",
       "\n",
       "        longitude  \n",
       "5084    longitude  \n",
       "65675   longitude  \n",
       "126266  longitude  \n",
       "187023  longitude  \n",
       "247614  longitude  \n",
       "308205  longitude  "
      ]
     },
     "execution_count": 5,
     "metadata": {},
     "output_type": "execute_result"
    }
   ],
   "source": [
    "weather[weather['daylight_duration'].astype(str).str.contains('day')]"
   ]
  },
  {
   "cell_type": "code",
   "execution_count": 6,
   "id": "81f5685d-9a0c-4cdc-9209-be9de78e44b7",
   "metadata": {},
   "outputs": [],
   "source": [
    "weather = weather.drop(weather[weather['daylight_duration'].astype(str).str.contains('day')].index)"
   ]
  },
  {
   "cell_type": "code",
   "execution_count": 7,
   "id": "f8a6bb50-88a8-4157-83f8-4ac0179b4c3e",
   "metadata": {},
   "outputs": [
    {
     "data": {
      "text/html": [
       "<div>\n",
       "<style scoped>\n",
       "    .dataframe tbody tr th:only-of-type {\n",
       "        vertical-align: middle;\n",
       "    }\n",
       "\n",
       "    .dataframe tbody tr th {\n",
       "        vertical-align: top;\n",
       "    }\n",
       "\n",
       "    .dataframe thead th {\n",
       "        text-align: right;\n",
       "    }\n",
       "</style>\n",
       "<table border=\"1\" class=\"dataframe\">\n",
       "  <thead>\n",
       "    <tr style=\"text-align: right;\">\n",
       "      <th></th>\n",
       "      <th>date</th>\n",
       "      <th>temperature_2m_max</th>\n",
       "      <th>temperature_2m_min</th>\n",
       "      <th>daylight_duration</th>\n",
       "      <th>sunshine_duration</th>\n",
       "      <th>rain_sum</th>\n",
       "      <th>showers_sum</th>\n",
       "      <th>snowfall_sum</th>\n",
       "      <th>precipitation_hours</th>\n",
       "      <th>wind_speed_10m_max</th>\n",
       "      <th>wind_gusts_10m_max</th>\n",
       "      <th>latitude</th>\n",
       "      <th>longitude</th>\n",
       "    </tr>\n",
       "  </thead>\n",
       "  <tbody>\n",
       "  </tbody>\n",
       "</table>\n",
       "</div>"
      ],
      "text/plain": [
       "Empty DataFrame\n",
       "Columns: [date, temperature_2m_max, temperature_2m_min, daylight_duration, sunshine_duration, rain_sum, showers_sum, snowfall_sum, precipitation_hours, wind_speed_10m_max, wind_gusts_10m_max, latitude, longitude]\n",
       "Index: []"
      ]
     },
     "execution_count": 7,
     "metadata": {},
     "output_type": "execute_result"
    }
   ],
   "source": [
    "weather[weather['daylight_duration'].astype(str).str.contains('day')]"
   ]
  },
  {
   "cell_type": "markdown",
   "id": "eebe85df-36a8-4699-92b1-03612ba9d79a",
   "metadata": {},
   "source": [
    "Sort the dataframe by date"
   ]
  },
  {
   "cell_type": "code",
   "execution_count": 8,
   "id": "73233873-9e75-4eb2-af69-df1dcb0ecb61",
   "metadata": {},
   "outputs": [],
   "source": [
    "weather = weather.sort_values('date')"
   ]
  },
  {
   "cell_type": "markdown",
   "id": "62030b62-041f-4faf-b5c7-75bbc01030d8",
   "metadata": {},
   "source": [
    "Delete the time in all the dates and remove the white space made"
   ]
  },
  {
   "cell_type": "code",
   "execution_count": 9,
   "id": "3884ab6b-dee0-4f0f-9bdf-92bbb68b84b1",
   "metadata": {},
   "outputs": [],
   "source": [
    "weather['date'] = weather['date'].str.replace('05:00:00+00:00', '')\n",
    "weather['date'] = weather['date'].str.strip()"
   ]
  },
  {
   "cell_type": "code",
   "execution_count": 10,
   "id": "14557e97-f357-469a-9426-d29f232d4d13",
   "metadata": {},
   "outputs": [
    {
     "data": {
      "text/html": [
       "<div>\n",
       "<style scoped>\n",
       "    .dataframe tbody tr th:only-of-type {\n",
       "        vertical-align: middle;\n",
       "    }\n",
       "\n",
       "    .dataframe tbody tr th {\n",
       "        vertical-align: top;\n",
       "    }\n",
       "\n",
       "    .dataframe thead th {\n",
       "        text-align: right;\n",
       "    }\n",
       "</style>\n",
       "<table border=\"1\" class=\"dataframe\">\n",
       "  <thead>\n",
       "    <tr style=\"text-align: right;\">\n",
       "      <th></th>\n",
       "      <th>date</th>\n",
       "      <th>temperature_2m_max</th>\n",
       "      <th>temperature_2m_min</th>\n",
       "      <th>daylight_duration</th>\n",
       "      <th>sunshine_duration</th>\n",
       "      <th>rain_sum</th>\n",
       "      <th>showers_sum</th>\n",
       "      <th>snowfall_sum</th>\n",
       "      <th>precipitation_hours</th>\n",
       "      <th>wind_speed_10m_max</th>\n",
       "      <th>wind_gusts_10m_max</th>\n",
       "      <th>latitude</th>\n",
       "      <th>longitude</th>\n",
       "    </tr>\n",
       "  </thead>\n",
       "  <tbody>\n",
       "    <tr>\n",
       "      <th>291050</th>\n",
       "      <td>2005-01-01</td>\n",
       "      <td>6.0785</td>\n",
       "      <td>-1.6715</td>\n",
       "      <td>32634.35</td>\n",
       "      <td>20676.693</td>\n",
       "      <td>0.3</td>\n",
       "      <td>0.0</td>\n",
       "      <td>0.0</td>\n",
       "      <td>2.0</td>\n",
       "      <td>19.211996</td>\n",
       "      <td>46.8</td>\n",
       "      <td>43.1</td>\n",
       "      <td>-73.86</td>\n",
       "    </tr>\n",
       "    <tr>\n",
       "      <th>251630</th>\n",
       "      <td>2005-01-01</td>\n",
       "      <td>8.6855</td>\n",
       "      <td>-2.1145</td>\n",
       "      <td>32994.484</td>\n",
       "      <td>28458.79</td>\n",
       "      <td>0.2</td>\n",
       "      <td>0.0</td>\n",
       "      <td>0.0</td>\n",
       "      <td>2.0</td>\n",
       "      <td>23.73271</td>\n",
       "      <td>54.719997</td>\n",
       "      <td>42.1957</td>\n",
       "      <td>-78.6287</td>\n",
       "    </tr>\n",
       "    <tr>\n",
       "      <th>303460</th>\n",
       "      <td>2005-01-01</td>\n",
       "      <td>5.847</td>\n",
       "      <td>-2.803</td>\n",
       "      <td>32549.463</td>\n",
       "      <td>10120.855</td>\n",
       "      <td>0.2</td>\n",
       "      <td>0.0</td>\n",
       "      <td>0.0</td>\n",
       "      <td>1.0</td>\n",
       "      <td>17.873556</td>\n",
       "      <td>43.92</td>\n",
       "      <td>43.35</td>\n",
       "      <td>-73.42</td>\n",
       "    </tr>\n",
       "    <tr>\n",
       "      <th>260390</th>\n",
       "      <td>2005-01-01</td>\n",
       "      <td>7.4214997</td>\n",
       "      <td>-1.4285</td>\n",
       "      <td>32994.484</td>\n",
       "      <td>28465.23</td>\n",
       "      <td>0.1</td>\n",
       "      <td>0.0</td>\n",
       "      <td>0.0</td>\n",
       "      <td>1.0</td>\n",
       "      <td>19.67195</td>\n",
       "      <td>45.0</td>\n",
       "      <td>42.213</td>\n",
       "      <td>-74.982</td>\n",
       "    </tr>\n",
       "    <tr>\n",
       "      <th>260755</th>\n",
       "      <td>2005-01-01</td>\n",
       "      <td>5.9925</td>\n",
       "      <td>-2.6075</td>\n",
       "      <td>32994.484</td>\n",
       "      <td>28727.3</td>\n",
       "      <td>0.2</td>\n",
       "      <td>0.0</td>\n",
       "      <td>0.0</td>\n",
       "      <td>1.0</td>\n",
       "      <td>20.620804</td>\n",
       "      <td>47.88</td>\n",
       "      <td>42.1821</td>\n",
       "      <td>-74.9847</td>\n",
       "    </tr>\n",
       "  </tbody>\n",
       "</table>\n",
       "</div>"
      ],
      "text/plain": [
       "              date temperature_2m_max temperature_2m_min daylight_duration  \\\n",
       "291050  2005-01-01             6.0785            -1.6715          32634.35   \n",
       "251630  2005-01-01             8.6855            -2.1145         32994.484   \n",
       "303460  2005-01-01              5.847             -2.803         32549.463   \n",
       "260390  2005-01-01          7.4214997            -1.4285         32994.484   \n",
       "260755  2005-01-01             5.9925            -2.6075         32994.484   \n",
       "\n",
       "       sunshine_duration rain_sum showers_sum snowfall_sum  \\\n",
       "291050         20676.693      0.3         0.0          0.0   \n",
       "251630          28458.79      0.2         0.0          0.0   \n",
       "303460         10120.855      0.2         0.0          0.0   \n",
       "260390          28465.23      0.1         0.0          0.0   \n",
       "260755           28727.3      0.2         0.0          0.0   \n",
       "\n",
       "       precipitation_hours wind_speed_10m_max wind_gusts_10m_max latitude  \\\n",
       "291050                 2.0          19.211996               46.8     43.1   \n",
       "251630                 2.0           23.73271          54.719997  42.1957   \n",
       "303460                 1.0          17.873556              43.92    43.35   \n",
       "260390                 1.0           19.67195               45.0   42.213   \n",
       "260755                 1.0          20.620804              47.88  42.1821   \n",
       "\n",
       "       longitude  \n",
       "291050    -73.86  \n",
       "251630  -78.6287  \n",
       "303460    -73.42  \n",
       "260390   -74.982  \n",
       "260755  -74.9847  "
      ]
     },
     "execution_count": 10,
     "metadata": {},
     "output_type": "execute_result"
    }
   ],
   "source": [
    "weather.head()"
   ]
  },
  {
   "cell_type": "code",
   "execution_count": 11,
   "id": "edfd89f0-a1d4-40a2-8d61-e82c95efdf1d",
   "metadata": {},
   "outputs": [],
   "source": [
    "weather[['temperature_2m_max','temperature_2m_min',\"daylight_duration\",\"sunshine_duration\",\"rain_sum\",'showers_sum',\n",
    "         \"snowfall_sum\",\"precipitation_hours\",\"wind_speed_10m_max\",\"wind_gusts_10m_max\",\"latitude\",\"longitude\"]] = weather[['temperature_2m_max','temperature_2m_min',\"daylight_duration\",\"sunshine_duration\",\"rain_sum\",'showers_sum',\n",
    "         \"snowfall_sum\",\"precipitation_hours\",\"wind_speed_10m_max\",\"wind_gusts_10m_max\",\"latitude\",\"longitude\"]].apply(pd.to_numeric)"
   ]
  },
  {
   "cell_type": "code",
   "execution_count": 12,
   "id": "8a924751-e03e-4d0d-a30c-c991b78ffd31",
   "metadata": {},
   "outputs": [],
   "source": [
    "weather['precipitation_total'] = weather['rain_sum'] + weather['snowfall_sum'] \n",
    "weather['location'] = list(zip(weather['latitude'],weather['longitude']))"
   ]
  },
  {
   "cell_type": "code",
   "execution_count": 13,
   "id": "f7fc8f90-b8ca-4cec-b895-21f8a47243b1",
   "metadata": {},
   "outputs": [
    {
     "data": {
      "text/plain": [
       "(368790, 15)"
      ]
     },
     "execution_count": 13,
     "metadata": {},
     "output_type": "execute_result"
    }
   ],
   "source": [
    "# Group by 'location'\n",
    "grouped = weather.groupby('location')\n",
    "\n",
    "# Drop duplicates based on 'date' for each group\n",
    "weather = pd.concat([group.drop_duplicates(subset=['date']) for _, group in grouped], ignore_index=True)\n",
    "\n",
    "# Display the first few rows of the cleaned DataFrame\n",
    "weather.shape"
   ]
  },
  {
   "cell_type": "code",
   "execution_count": 14,
   "id": "f4c7b9da-08e8-4dec-b0b6-f17c4ac78b78",
   "metadata": {
    "scrolled": true
   },
   "outputs": [
    {
     "name": "stdout",
     "output_type": "stream",
     "text": [
      "<class 'pandas.core.frame.DataFrame'>\n",
      "RangeIndex: 368790 entries, 0 to 368789\n",
      "Data columns (total 15 columns):\n",
      " #   Column               Non-Null Count   Dtype  \n",
      "---  ------               --------------   -----  \n",
      " 0   date                 368790 non-null  object \n",
      " 1   temperature_2m_max   368790 non-null  float64\n",
      " 2   temperature_2m_min   368790 non-null  float64\n",
      " 3   daylight_duration    368790 non-null  float64\n",
      " 4   sunshine_duration    368788 non-null  float64\n",
      " 5   rain_sum             368790 non-null  float64\n",
      " 6   showers_sum          368790 non-null  float64\n",
      " 7   snowfall_sum         368790 non-null  float64\n",
      " 8   precipitation_hours  368790 non-null  float64\n",
      " 9   wind_speed_10m_max   368790 non-null  float64\n",
      " 10  wind_gusts_10m_max   368790 non-null  float64\n",
      " 11  latitude             368790 non-null  float64\n",
      " 12  longitude            368790 non-null  float64\n",
      " 13  precipitation_total  368790 non-null  float64\n",
      " 14  location             368790 non-null  object \n",
      "dtypes: float64(13), object(2)\n",
      "memory usage: 42.2+ MB\n"
     ]
    }
   ],
   "source": [
    "weather.info()"
   ]
  },
  {
   "cell_type": "code",
   "execution_count": 15,
   "id": "45148ba2-f9e7-4725-8ccb-872c15709be5",
   "metadata": {},
   "outputs": [
    {
     "data": {
      "text/plain": [
       "date                   0\n",
       "temperature_2m_max     0\n",
       "temperature_2m_min     0\n",
       "daylight_duration      0\n",
       "sunshine_duration      2\n",
       "rain_sum               0\n",
       "showers_sum            0\n",
       "snowfall_sum           0\n",
       "precipitation_hours    0\n",
       "wind_speed_10m_max     0\n",
       "wind_gusts_10m_max     0\n",
       "latitude               0\n",
       "longitude              0\n",
       "precipitation_total    0\n",
       "location               0\n",
       "dtype: int64"
      ]
     },
     "execution_count": 15,
     "metadata": {},
     "output_type": "execute_result"
    }
   ],
   "source": [
    "weather.isnull().sum()"
   ]
  },
  {
   "cell_type": "code",
   "execution_count": 16,
   "id": "82e99960-f1f1-49e8-aa2e-99d75c981d57",
   "metadata": {},
   "outputs": [],
   "source": [
    "weather.dropna(inplace = True)"
   ]
  },
  {
   "cell_type": "code",
   "execution_count": 17,
   "id": "413cc673-b24b-4f28-bb98-5d7950f653ce",
   "metadata": {
    "scrolled": true
   },
   "outputs": [
    {
     "data": {
      "text/html": [
       "<div>\n",
       "<style scoped>\n",
       "    .dataframe tbody tr th:only-of-type {\n",
       "        vertical-align: middle;\n",
       "    }\n",
       "\n",
       "    .dataframe tbody tr th {\n",
       "        vertical-align: top;\n",
       "    }\n",
       "\n",
       "    .dataframe thead th {\n",
       "        text-align: right;\n",
       "    }\n",
       "</style>\n",
       "<table border=\"1\" class=\"dataframe\">\n",
       "  <thead>\n",
       "    <tr style=\"text-align: right;\">\n",
       "      <th></th>\n",
       "      <th>date</th>\n",
       "      <th>temperature_2m_max</th>\n",
       "      <th>temperature_2m_min</th>\n",
       "      <th>daylight_duration</th>\n",
       "      <th>sunshine_duration</th>\n",
       "      <th>rain_sum</th>\n",
       "      <th>showers_sum</th>\n",
       "      <th>snowfall_sum</th>\n",
       "      <th>precipitation_hours</th>\n",
       "      <th>wind_speed_10m_max</th>\n",
       "      <th>wind_gusts_10m_max</th>\n",
       "      <th>latitude</th>\n",
       "      <th>longitude</th>\n",
       "      <th>precipitation_total</th>\n",
       "      <th>location</th>\n",
       "    </tr>\n",
       "  </thead>\n",
       "  <tbody>\n",
       "    <tr>\n",
       "      <th>0</th>\n",
       "      <td>2005-01-01</td>\n",
       "      <td>13.779</td>\n",
       "      <td>0.779</td>\n",
       "      <td>33603.098</td>\n",
       "      <td>29108.1450</td>\n",
       "      <td>0.0</td>\n",
       "      <td>0.0</td>\n",
       "      <td>0.00</td>\n",
       "      <td>0.0</td>\n",
       "      <td>16.781560</td>\n",
       "      <td>34.920000</td>\n",
       "      <td>40.5795</td>\n",
       "      <td>-74.1502</td>\n",
       "      <td>0.00</td>\n",
       "      <td>(40.5795, -74.1502)</td>\n",
       "    </tr>\n",
       "    <tr>\n",
       "      <th>1</th>\n",
       "      <td>2005-01-02</td>\n",
       "      <td>6.779</td>\n",
       "      <td>-1.471</td>\n",
       "      <td>33650.117</td>\n",
       "      <td>18150.7850</td>\n",
       "      <td>0.0</td>\n",
       "      <td>0.0</td>\n",
       "      <td>0.00</td>\n",
       "      <td>0.0</td>\n",
       "      <td>13.910169</td>\n",
       "      <td>31.319998</td>\n",
       "      <td>40.5795</td>\n",
       "      <td>-74.1502</td>\n",
       "      <td>0.00</td>\n",
       "      <td>(40.5795, -74.1502)</td>\n",
       "    </tr>\n",
       "    <tr>\n",
       "      <th>2</th>\n",
       "      <td>2005-01-03</td>\n",
       "      <td>12.829</td>\n",
       "      <td>6.129</td>\n",
       "      <td>33700.723</td>\n",
       "      <td>4058.1921</td>\n",
       "      <td>5.5</td>\n",
       "      <td>0.0</td>\n",
       "      <td>0.00</td>\n",
       "      <td>7.0</td>\n",
       "      <td>11.525623</td>\n",
       "      <td>27.359999</td>\n",
       "      <td>40.5795</td>\n",
       "      <td>-74.1502</td>\n",
       "      <td>5.50</td>\n",
       "      <td>(40.5795, -74.1502)</td>\n",
       "    </tr>\n",
       "    <tr>\n",
       "      <th>3</th>\n",
       "      <td>2005-01-04</td>\n",
       "      <td>9.529</td>\n",
       "      <td>2.979</td>\n",
       "      <td>33754.844</td>\n",
       "      <td>6188.0500</td>\n",
       "      <td>2.6</td>\n",
       "      <td>0.0</td>\n",
       "      <td>0.00</td>\n",
       "      <td>7.0</td>\n",
       "      <td>13.320000</td>\n",
       "      <td>40.320000</td>\n",
       "      <td>40.5795</td>\n",
       "      <td>-74.1502</td>\n",
       "      <td>2.60</td>\n",
       "      <td>(40.5795, -74.1502)</td>\n",
       "    </tr>\n",
       "    <tr>\n",
       "      <th>4</th>\n",
       "      <td>2005-01-05</td>\n",
       "      <td>3.579</td>\n",
       "      <td>0.479</td>\n",
       "      <td>33812.383</td>\n",
       "      <td>0.0000</td>\n",
       "      <td>11.5</td>\n",
       "      <td>0.0</td>\n",
       "      <td>1.33</td>\n",
       "      <td>19.0</td>\n",
       "      <td>12.727922</td>\n",
       "      <td>25.919998</td>\n",
       "      <td>40.5795</td>\n",
       "      <td>-74.1502</td>\n",
       "      <td>12.83</td>\n",
       "      <td>(40.5795, -74.1502)</td>\n",
       "    </tr>\n",
       "  </tbody>\n",
       "</table>\n",
       "</div>"
      ],
      "text/plain": [
       "         date  temperature_2m_max  temperature_2m_min  daylight_duration  \\\n",
       "0  2005-01-01              13.779               0.779          33603.098   \n",
       "1  2005-01-02               6.779              -1.471          33650.117   \n",
       "2  2005-01-03              12.829               6.129          33700.723   \n",
       "3  2005-01-04               9.529               2.979          33754.844   \n",
       "4  2005-01-05               3.579               0.479          33812.383   \n",
       "\n",
       "   sunshine_duration  rain_sum  showers_sum  snowfall_sum  \\\n",
       "0         29108.1450       0.0          0.0          0.00   \n",
       "1         18150.7850       0.0          0.0          0.00   \n",
       "2          4058.1921       5.5          0.0          0.00   \n",
       "3          6188.0500       2.6          0.0          0.00   \n",
       "4             0.0000      11.5          0.0          1.33   \n",
       "\n",
       "   precipitation_hours  wind_speed_10m_max  wind_gusts_10m_max  latitude  \\\n",
       "0                  0.0           16.781560           34.920000   40.5795   \n",
       "1                  0.0           13.910169           31.319998   40.5795   \n",
       "2                  7.0           11.525623           27.359999   40.5795   \n",
       "3                  7.0           13.320000           40.320000   40.5795   \n",
       "4                 19.0           12.727922           25.919998   40.5795   \n",
       "\n",
       "   longitude  precipitation_total             location  \n",
       "0   -74.1502                 0.00  (40.5795, -74.1502)  \n",
       "1   -74.1502                 0.00  (40.5795, -74.1502)  \n",
       "2   -74.1502                 5.50  (40.5795, -74.1502)  \n",
       "3   -74.1502                 2.60  (40.5795, -74.1502)  \n",
       "4   -74.1502                12.83  (40.5795, -74.1502)  "
      ]
     },
     "execution_count": 17,
     "metadata": {},
     "output_type": "execute_result"
    }
   ],
   "source": [
    "weather.head()"
   ]
  },
  {
   "cell_type": "code",
   "execution_count": 30,
   "id": "a5dceb64-897c-44bf-a406-db5047690f20",
   "metadata": {},
   "outputs": [],
   "source": [
    "weather = weather.drop(columns = ['rain_sum', 'showers_sum', 'snowfall_sum'])"
   ]
  },
  {
   "cell_type": "code",
   "execution_count": 31,
   "id": "d594221f-3a85-446a-a383-14b0d2fe9834",
   "metadata": {},
   "outputs": [],
   "source": [
    "weather['date'] = pd.to_datetime(weather['date'])\n",
    "weather = weather.sort_values(by = 'date')"
   ]
  },
  {
   "cell_type": "markdown",
   "id": "3aa76a3c-cf4a-4d5e-b34d-82e5d751f664",
   "metadata": {},
   "source": [
    "Forecast each feature into 2030 with an ARIMA model"
   ]
  },
  {
   "cell_type": "code",
   "execution_count": 38,
   "id": "140c6f18-ddbe-420f-9936-2712aafc846e",
   "metadata": {},
   "outputs": [],
   "source": [
    "# Example function to preprocess data, aggregate to monthly, and forecast with AutoARIMA\n",
    "def preprocess_and_forecast(data, forecast_steps, seasonal_period, train_end_date):\n",
    "    \"\"\"\n",
    "    Preprocess and forecast weather data using monthly aggregation, STL, and AutoARIMA,\n",
    "    with a train-test split.\n",
    "    \n",
    "    Args:\n",
    "    - data: DataFrame, columns = ['date', 'latitude', 'longitude', 'feature1', ..., 'featureN']\n",
    "    - forecast_steps: int, number of future periods to forecast (for testing and beyond)\n",
    "    - seasonal_period: int, period of seasonality (e.g., 12 for monthly data)\n",
    "    - train_end_date: str, cutoff date for training data (e.g., \"2023-12\")\n",
    "    \n",
    "    Returns:\n",
    "    - train_data: ndarray, shape = (n_samples, train_timestamps, n_features)\n",
    "    - test_data: ndarray, shape = (n_samples, test_timestamps, n_features)\n",
    "    \"\"\"\n",
    "    # Step 1: Aggregate to monthly averages\n",
    "    data['month'] = data['date'].dt.to_period('M')\n",
    "    monthly_data = data.groupby(['latitude', 'longitude', 'month']).mean(numeric_only = True).reset_index()\n",
    "    \n",
    "    # Step 2: Pivot to create time series for each feature\n",
    "    feature_columns = [col for col in monthly_data.columns if col not in ['latitude', 'longitude', 'month']]\n",
    "    time_series_data = []\n",
    "    for (lat, lon), group in monthly_data.groupby(['latitude', 'longitude']):\n",
    "        series = group.set_index('month')[feature_columns].values\n",
    "        time_series_data.append(series)\n",
    "    time_series_data = np.array(time_series_data)  # (n_samples, n_timestamps, n_features)\n",
    "    \n",
    "    # Step 3: Split data into train and test sets\n",
    "    n_timestamps = time_series_data.shape[1]\n",
    "    n_train = len(pd.date_range(start='2005-01', end=train_end_date, freq='M'))\n",
    "    n_test = n_timestamps - n_train\n",
    "    train_data = time_series_data[:, :n_train, :]\n",
    "    test_data = time_series_data[:, n_train:, :]\n",
    "    \n",
    "    # Step 4: Forecast with AutoARIMA\n",
    "    forecasted_train_data = np.zeros((train_data.shape[0], n_train + forecast_steps, train_data.shape[2]))\n",
    "    forecasted_test_data = np.zeros((test_data.shape[0], n_test + forecast_steps, test_data.shape[2]))\n",
    "    \n",
    "    for feature_idx in range(len(feature_columns)):\n",
    "        for sample_idx in range(train_data.shape[0]):\n",
    "            train_series = train_data[sample_idx, :, feature_idx]\n",
    "            stl = STL(train_series, period=seasonal_period)\n",
    "            result = stl.fit()\n",
    "            detrended = train_series - result.trend\n",
    "            \n",
    "            # AutoARIMA forecasting\n",
    "            model = auto_arima(detrended, seasonal=True, m=seasonal_period, stepwise=True, suppress_warnings=True)\n",
    "            forecast = model.predict(n_periods=forecast_steps)\n",
    "            trend_forecast = np.full(forecast_steps, result.trend[-1])\n",
    "            full_forecast = trend_forecast + forecast\n",
    "            \n",
    "            # Combine historical and forecast data\n",
    "            forecasted_train_data[sample_idx, :, feature_idx] = np.concatenate((train_series, full_forecast))\n",
    "            forecasted_test_data[sample_idx, :, feature_idx] = np.concatenate((test_data[sample_idx, :, feature_idx], full_forecast))\n",
    "    \n",
    "    return forecasted_train_data, forecasted_test_data"
   ]
  },
  {
   "cell_type": "code",
   "execution_count": 39,
   "id": "3728a0a2-46fa-442d-ba2d-342975baf9d8",
   "metadata": {},
   "outputs": [
    {
     "ename": "ValueError",
     "evalue": "setting an array element with a sequence. The requested array has an inhomogeneous shape after 1 dimensions. The detected shape was (166,) + inhomogeneous part.",
     "output_type": "error",
     "traceback": [
      "\u001b[1;31m---------------------------------------------------------------------------\u001b[0m",
      "\u001b[1;31mValueError\u001b[0m                                Traceback (most recent call last)",
      "Cell \u001b[1;32mIn[39], line 5\u001b[0m\n\u001b[0;32m      2\u001b[0m seasonal_period \u001b[38;5;241m=\u001b[39m \u001b[38;5;241m12\u001b[39m  \u001b[38;5;66;03m# Monthly seasonality\u001b[39;00m\n\u001b[0;32m      3\u001b[0m train_end_date \u001b[38;5;241m=\u001b[39m \u001b[38;5;124m\"\u001b[39m\u001b[38;5;124m2023-12\u001b[39m\u001b[38;5;124m\"\u001b[39m\n\u001b[1;32m----> 5\u001b[0m train_data, test_data \u001b[38;5;241m=\u001b[39m \u001b[43mpreprocess_and_forecast\u001b[49m\u001b[43m(\u001b[49m\u001b[43mweather\u001b[49m\u001b[43m,\u001b[49m\u001b[43m \u001b[49m\u001b[43mforecast_steps\u001b[49m\u001b[43m,\u001b[49m\u001b[43m \u001b[49m\u001b[43mseasonal_period\u001b[49m\u001b[43m,\u001b[49m\u001b[43m \u001b[49m\u001b[43mtrain_end_date\u001b[49m\u001b[43m)\u001b[49m\n",
      "Cell \u001b[1;32mIn[38], line 27\u001b[0m, in \u001b[0;36mpreprocess_and_forecast\u001b[1;34m(data, forecast_steps, seasonal_period, train_end_date)\u001b[0m\n\u001b[0;32m     25\u001b[0m     series \u001b[38;5;241m=\u001b[39m group\u001b[38;5;241m.\u001b[39mset_index(\u001b[38;5;124m'\u001b[39m\u001b[38;5;124mmonth\u001b[39m\u001b[38;5;124m'\u001b[39m)[feature_columns]\u001b[38;5;241m.\u001b[39mvalues\n\u001b[0;32m     26\u001b[0m     time_series_data\u001b[38;5;241m.\u001b[39mappend(series)\n\u001b[1;32m---> 27\u001b[0m time_series_data \u001b[38;5;241m=\u001b[39m np\u001b[38;5;241m.\u001b[39marray(time_series_data)  \u001b[38;5;66;03m# (n_samples, n_timestamps, n_features)\u001b[39;00m\n\u001b[0;32m     29\u001b[0m \u001b[38;5;66;03m# Step 3: Split data into train and test sets\u001b[39;00m\n\u001b[0;32m     30\u001b[0m n_timestamps \u001b[38;5;241m=\u001b[39m time_series_data\u001b[38;5;241m.\u001b[39mshape[\u001b[38;5;241m1\u001b[39m]\n",
      "\u001b[1;31mValueError\u001b[0m: setting an array element with a sequence. The requested array has an inhomogeneous shape after 1 dimensions. The detected shape was (166,) + inhomogeneous part."
     ]
    }
   ],
   "source": [
    "forecast_steps = 12 * 6 + 1  # Forecast 6 years and 1 month into the future (73 months)\n",
    "seasonal_period = 12  # Monthly seasonality\n",
    "train_end_date = \"2023-12\"\n",
    "\n",
    "train_data, test_data = preprocess_and_forecast(weather, forecast_steps, seasonal_period, train_end_date)"
   ]
  },
  {
   "cell_type": "markdown",
   "id": "96b4055c-78ef-4d3d-a01c-fa01f7106b46",
   "metadata": {},
   "source": [
    "Run a time-series k-means clustering model"
   ]
  },
  {
   "cell_type": "code",
   "execution_count": null,
   "id": "7b065863-208a-4af9-9a48-68f5904f1e00",
   "metadata": {},
   "outputs": [],
   "source": [
    "# Flatten data for clustering\n",
    "train_data_flat = train_data.reshape(train_data.shape[0], -1)\n",
    "test_data_flat = test_data.reshape(test_data.shape[0], -1)\n",
    "\n",
    "# Define the pipeline\n",
    "pipeline = Pipeline([\n",
    "    (\"scaler\", StandardScaler()),\n",
    "    (\"pca\", PCA(n_components=10)),\n",
    "    (\"kmeans\", TimeSeriesKMeans(n_clusters=2, metric=\"softdtw\", n_jobs=12, verbose=True))\n",
    "])\n",
    "\n",
    "# Fit the pipeline on training data\n",
    "pipeline.fit(train_data_flat)\n",
    "\n",
    "# Transform and predict clusters for training and testing data\n",
    "train_clusters = pipeline[\"kmeans\"].predict(train_data_flat)\n",
    "test_clusters = pipeline[\"kmeans\"].predict(test_data_flat)\n",
    "\n",
    "print(\"Train Clusters:\", train_clusters)\n",
    "print(\"Test Clusters:\", test_clusters)"
   ]
  }
 ],
 "metadata": {
  "kernelspec": {
   "display_name": "Python 3 (ipykernel)",
   "language": "python",
   "name": "python3"
  },
  "language_info": {
   "codemirror_mode": {
    "name": "ipython",
    "version": 3
   },
   "file_extension": ".py",
   "mimetype": "text/x-python",
   "name": "python",
   "nbconvert_exporter": "python",
   "pygments_lexer": "ipython3",
   "version": "3.11.1"
  }
 },
 "nbformat": 4,
 "nbformat_minor": 5
}
